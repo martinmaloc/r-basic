{
 "cells": [
  {
   "cell_type": "markdown",
   "id": "1f940d2c",
   "metadata": {},
   "source": [
    "# Ejercicios Programando con Python"
   ]
  },
  {
   "cell_type": "markdown",
   "id": "39c556b2",
   "metadata": {},
   "source": [
    "#### 1. Crea una función que reciba los tres coeficientes a, b y c para resolver una ecuación de segundo grado. Muestra la solución por pantalla y ayúdate de la librería Math para acceder a la función raíz cuadrada."
   ]
  },
  {
   "cell_type": "code",
   "execution_count": 306,
   "id": "0572c9b1",
   "metadata": {},
   "outputs": [
    {
     "data": {
      "text/plain": [
       "(-0.5, -1.0)"
      ]
     },
     "execution_count": 306,
     "metadata": {},
     "output_type": "execute_result"
    }
   ],
   "source": [
    "def ecu2dog(a,b,c):\n",
    "    limite1 = (-b + math.sqrt(b**2 - 4*a*c))/(2*a)\n",
    "    limite2 = (-b - math.sqrt(b**2 - 4*a*c))/(2*a)\n",
    "    return(limite1,limite2)\n",
    "\n",
    "ecu2dog(4,6,2)"
   ]
  },
  {
   "cell_type": "markdown",
   "id": "6be9321d",
   "metadata": {},
   "source": [
    "#### 2. Crea una función que lea una frase de teclado y nos diga si es o no un palíndromo (frase que se lee igual de izquierda a derecha o al revés como por ejemplo La ruta nos aportó otro paso natural.)"
   ]
  },
  {
   "cell_type": "code",
   "execution_count": 307,
   "id": "5c498e41",
   "metadata": {},
   "outputs": [
    {
     "name": "stdout",
     "output_type": "stream",
     "text": [
      "Introduzca una frase sin tildes: Yo soy\n",
      "Es un palindromo\n"
     ]
    }
   ],
   "source": [
    "def palindromo():\n",
    "    palabra = input(\"Introduzca una frase sin tildes: \")\n",
    "    palabra1 = palabra.replace(\" \",\"\")\n",
    "    palabra_limpio = palabra1.lower()\n",
    "    normal = palabra_limpio\n",
    "    invertida = palabra_limpio[::-1]\n",
    "    if normal == invertida:\n",
    "        print(\"Es un palindromo\")\n",
    "    else:\n",
    "        print(\"No es un palindromo\")\n",
    "        \n",
    "palindromo()"
   ]
  },
  {
   "cell_type": "markdown",
   "id": "334d449f",
   "metadata": {},
   "source": [
    "#### 3. Crea un diccionario que tenga por claves los números del 1 al 10 y como valores sus raíces cuadradas"
   ]
  },
  {
   "cell_type": "code",
   "execution_count": 263,
   "id": "25806fe2",
   "metadata": {},
   "outputs": [
    {
     "data": {
      "text/plain": [
       "{'1': 1.0,\n",
       " '2': 1.41,\n",
       " '3': 1.73,\n",
       " '4': 2.0,\n",
       " '5': 2.24,\n",
       " '6': 2.45,\n",
       " '7': 2.65,\n",
       " '8': 2.83,\n",
       " '9': 3.0,\n",
       " '10': 3.16}"
      ]
     },
     "execution_count": 263,
     "metadata": {},
     "output_type": "execute_result"
    }
   ],
   "source": [
    "valores = dict(zip(\"123456789\", [1,2,3,4,5,6,7,8,9]))\n",
    "valor = valores.setdefault(\"10\", 10)\n",
    "for key in valores:\n",
    "    valores[key] = round(math.sqrt(valores[key]),2)\n",
    "    \n",
    "valores"
   ]
  },
  {
   "cell_type": "markdown",
   "id": "236632c2",
   "metadata": {},
   "source": [
    "#### 4. Crea un diccionario que tenga como claves las letras del alfabeto castellano y como valores los símbolos del código morse (los tienes todos en la Wikipedia). A continuación crea un programa que lea una frase del teclado y te la convierta a Morse utilizando el diccionario anterior."
   ]
  },
  {
   "cell_type": "code",
   "execution_count": 347,
   "id": "dbf0160e",
   "metadata": {},
   "outputs": [
    {
     "name": "stdout",
     "output_type": "stream",
     "text": [
      "Introduce una frase: sos\n",
      "... ___ ... "
     ]
    }
   ],
   "source": [
    "clave_morse = dict(zip(\"ABCDEFGHIJKLMNÑOPQRSTUVWXYZ\", [\"._\", \"_...\", \"_._.\", \"_..\", \".\", \".._.\", \"__.\", \"....\", \"..\", \n",
    "                       \".___\", \"_._\", \"._..\", \"__\", \"_.\", \"__.__\", \"___\", \".__.\", \"__._\", \"._.\", \"...\", \"_\", \".._\", \"..._\",\n",
    "                      \".__\", \"_.._\", \"_.__\", \"__..\"]))\n",
    "\n",
    "def morse():\n",
    "    palabra = input(\"Introduce una frase: \")\n",
    "    palabra = palabra.replace(\" \", \"\")\n",
    "    palabra = palabra.upper()\n",
    "    for i in palabra:\n",
    "        print(clave_morse[i], end = \" \")\n",
    "\n",
    "morse()"
   ]
  },
  {
   "cell_type": "markdown",
   "id": "7a166eff",
   "metadata": {},
   "source": [
    "#### 5. Crea una función que dados dos diccionarios nos diga que claves están presentes en ambos."
   ]
  },
  {
   "cell_type": "code",
   "execution_count": 2,
   "id": "0e43d9a3",
   "metadata": {},
   "outputs": [
    {
     "name": "stdout",
     "output_type": "stream",
     "text": [
      "Las claves que estan presentes en ambos diccionarios son {'5', '3', '2', '1', '4'}\n"
     ]
    }
   ],
   "source": [
    "dic = dict(zip(\"12345\", [6,7,8,9,10]))\n",
    "dicc = dict(zip(\"12345678\", [1,2,3,4,5]))\n",
    "\n",
    "def claves(a,b):\n",
    "    presentes = a.keys() & b.keys()\n",
    "    print(\"Las claves que estan presentes en ambos diccionarios son %s\"%presentes)\n",
    "\n",
    "claves(dic,dicc)"
   ]
  },
  {
   "cell_type": "markdown",
   "id": "8dcacbaa",
   "metadata": {},
   "source": [
    "#### 6. Crea una función que dado un número N nos diga si es primo o no (tiene que ir dividiendo por todos los números x comprendidos entre 2 y el propio número N menos uno y ver si el cociente de N/x tiene resto cero o no)."
   ]
  },
  {
   "cell_type": "code",
   "execution_count": 311,
   "id": "0d6698d2",
   "metadata": {},
   "outputs": [
    {
     "name": "stdout",
     "output_type": "stream",
     "text": [
      "El numero 997 es un numero primo\n",
      "El numero 134 no es un numero primo\n"
     ]
    }
   ],
   "source": [
    "def primos(n):\n",
    "    valores = []\n",
    "    for x in range(2, n):\n",
    "        valores.append(n % x)\n",
    "    if 0 not in valores:\n",
    "        print(\"El numero \" + str(n) + \" es un numero primo\")\n",
    "    else:\n",
    "        print(\"El numero \" + str(n) + \" no es un numero primo\")\n",
    "\n",
    "primos(997)\n",
    "primos(134)"
   ]
  },
  {
   "cell_type": "markdown",
   "id": "8249f920",
   "metadata": {},
   "source": [
    "#### 7. Investiga la documentación de la clase string y crea un método que lea una frase del teclado y escriba la primera letra de cada palabra en Mayúscula."
   ]
  },
  {
   "cell_type": "code",
   "execution_count": 107,
   "id": "0478f3a5",
   "metadata": {},
   "outputs": [
    {
     "name": "stdout",
     "output_type": "stream",
     "text": [
      "Introduce una frase en minusculas: me gusta el futbol, la musica y viajar\n",
      "Me Gusta El Futbol, La Musica Y Viajar\n"
     ]
    }
   ],
   "source": [
    "frase = input(\"Introduce una frase en minusculas: \")\n",
    "frase_limpia = frase.title()\n",
    "print(frase_limpia)"
   ]
  },
  {
   "cell_type": "markdown",
   "id": "268e7142",
   "metadata": {},
   "source": [
    "#### 8. Crea una función que calcule el máximo común divisor de dos números introducidos por el usuario por teclado."
   ]
  },
  {
   "cell_type": "code",
   "execution_count": 201,
   "id": "c8c0775f",
   "metadata": {
    "scrolled": true
   },
   "outputs": [
    {
     "name": "stdout",
     "output_type": "stream",
     "text": [
      "Haz introducido: 30\n",
      "Y: 15\n",
      "El maximo comun divisor de 30 y 15 es: 15\n"
     ]
    }
   ],
   "source": [
    "def maximo_comun_divisor():\n",
    "    valorx = int(input(\"Haz introducido: \"))\n",
    "    valory = int(input(\"Y: \"))\n",
    "    gcd = math.gcd(valorx,valory)\n",
    "    print(\"El maximo comun divisor de \" + str(valorx) + \" y \" + str(valory) + \" es: %d\"% gcd)\n",
    "    \n",
    "maximo_comun_divisor()"
   ]
  },
  {
   "cell_type": "markdown",
   "id": "78d4e454",
   "metadata": {},
   "source": [
    "#### 9. Investiga el Cifrado del César y crea una función que lo reproduzca en Python. Cada letra del mensaje original se desplaza tres posiciones en el alfabeto estándar. La A se convierte en la D, la B se convierte en la E, la C se convierte en la F... y cuando se acaba el alfabeto se le vuelve a dar la vuelta: la X se convierte en la A, la Y en la B y la X en la C. Los números no sufren ninguna modificación."
   ]
  },
  {
   "cell_type": "code",
   "execution_count": 81,
   "id": "b5428f7e",
   "metadata": {},
   "outputs": [
    {
     "name": "stdout",
     "output_type": "stream",
     "text": [
      "Ingrese una palabra: guerra\n",
      " jxhuud\n"
     ]
    }
   ],
   "source": [
    "alfabeto = [\"a\", \"b\", \"c\", \"d\", \"e\", \"f\", \"g\", \"h\", \"i\", \"j\", \"k\", \"l\", \"m\", \"n\", \"o\", \"p\", \"q\", \"r\", \"s\", \"t\", \"u\", \"v\",\n",
    "           \"w\", \"x\", \"y\", \"z\"]\n",
    "\n",
    "def cifrado(palabra):\n",
    "    palabraCifrada = \" \"\n",
    "    for i in palabra:\n",
    "        indice = alfabeto.index(i) + 3\n",
    "        if indice > len(alfabeto)-1:\n",
    "            indice = indice - (len(alfabeto))\n",
    "        if i == \" \":\n",
    "            palabraCifrada += \" \"\n",
    "        else:\n",
    "            palabraCifrada += alfabeto[indice]\n",
    "    return palabraCifrada\n",
    "\n",
    "palabraUsuario = input(\"Ingrese una palabra: \")\n",
    "palabraEncriptada = cifrado(palabraUsuario)\n",
    "print(palabraEncriptada)"
   ]
  },
  {
   "cell_type": "markdown",
   "id": "dd6dccff",
   "metadata": {},
   "source": [
    "#### 10. Dado una lista de nombres de persona, escribe un algoritmo que los ordene de tres formas diferentes:\n",
    "\n",
    "A. De forma alfabética\n",
    "\n",
    "B. De forma alfabética invertida\n",
    "\n",
    "C. De nombre más corto al más largo."
   ]
  },
  {
   "cell_type": "code",
   "execution_count": 224,
   "id": "abba2fd5",
   "metadata": {},
   "outputs": [
    {
     "name": "stdout",
     "output_type": "stream",
     "text": [
      "Orden alfabetico ['Daniel', 'Estefania', 'Jose', 'Juan', 'Martin', 'Noe', 'Pedro']\n",
      "Orden alfabetico invertido ['Pedro', 'Noe', 'Martin', 'Juan', 'Jose', 'Estefania', 'Daniel']\n",
      "Ordenado por nombre mas corto ['Noe', 'Jose', 'Juan', 'Pedro', 'Martin', 'Daniel', 'Estefania']\n"
     ]
    }
   ],
   "source": [
    "def orden(*arg):\n",
    "    nombres = [*arg]\n",
    "    nombres_orden = sorted(nombres)\n",
    "    nombres_orden_inv = sorted(nombres, reverse = True)\n",
    "    nombres_long = sorted(nombres, key = len)\n",
    "    print(\"Orden alfabetico \" + str(nombres_orden))\n",
    "    print(\"Orden alfabetico invertido \" + str(nombres_orden_inv))\n",
    "    print(\"Ordenado por nombre mas corto \" + str(nombres_long))\n",
    "    \n",
    "orden(\"Martin\",\"Jose\",\"Juan\",\"Pedro\",\"Daniel\", \"Noe\", \"Estefania\")"
   ]
  }
 ],
 "metadata": {
  "kernelspec": {
   "display_name": "Python 3",
   "language": "python",
   "name": "python3"
  },
  "language_info": {
   "codemirror_mode": {
    "name": "ipython",
    "version": 3
   },
   "file_extension": ".py",
   "mimetype": "text/x-python",
   "name": "python",
   "nbconvert_exporter": "python",
   "pygments_lexer": "ipython3",
   "version": "3.7.10"
  }
 },
 "nbformat": 4,
 "nbformat_minor": 5
}
