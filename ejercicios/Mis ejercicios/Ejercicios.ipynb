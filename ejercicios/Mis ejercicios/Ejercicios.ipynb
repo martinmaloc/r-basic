{
 "cells": [
  {
   "cell_type": "markdown",
   "id": "47255534",
   "metadata": {},
   "source": [
    "# Ejercicio 1\n",
    "Escribe una secuencia de instrucciones que permitan leer un número real por pantalla y que muestre si el número es positivo o no."
   ]
  },
  {
   "cell_type": "code",
   "execution_count": 1,
   "id": "df6fb3a4",
   "metadata": {},
   "outputs": [
    {
     "name": "stdout",
     "output_type": "stream",
     "text": [
      "Ingresa un número real: 3\n",
      "El número es positivo\n"
     ]
    }
   ],
   "source": [
    "x = float(input(\"Ingresa un número real: \"))\n",
    "if x < 0:\n",
    "    print(\"El número es negativo\")\n",
    "else:\n",
    "    print(\"El número es positivo\")"
   ]
  },
  {
   "cell_type": "code",
   "execution_count": 7,
   "id": "3f22f70e",
   "metadata": {},
   "outputs": [
    {
     "name": "stdout",
     "output_type": "stream",
     "text": [
      "Ingresa un número real: -4.5\n",
      "El número es negativo\n"
     ]
    }
   ],
   "source": [
    "x = float(input(\"Ingresa un número real: \"))\n",
    "if x < 0:\n",
    "    print(\"El número es negativo\")\n",
    "else:\n",
    "    print(\"El número es positivo\")"
   ]
  },
  {
   "cell_type": "markdown",
   "id": "baa4d0e0",
   "metadata": {},
   "source": [
    "# Ejercicio 2\n",
    "Escribe una secuencia de instrucciones que permitan leer un número real por pantalla y que muestre si el número está en el rango entre -5 y 5"
   ]
  },
  {
   "cell_type": "code",
   "execution_count": 12,
   "id": "1518524c",
   "metadata": {},
   "outputs": [
    {
     "name": "stdout",
     "output_type": "stream",
     "text": [
      "Ingresa un número real: 6\n",
      "El número esta fuera del rango [-5, 5]\n"
     ]
    }
   ],
   "source": [
    "x = float(input(\"Ingresa un número real: \"))\n",
    "if x > -5 and x < 5:\n",
    "    print(\"El número se encuentra en el rango [-5, 5]\")\n",
    "else:\n",
    "    print(\"El número esta fuera del rango [-5, 5]\")"
   ]
  },
  {
   "cell_type": "code",
   "execution_count": 13,
   "id": "caab0e89",
   "metadata": {},
   "outputs": [
    {
     "name": "stdout",
     "output_type": "stream",
     "text": [
      "Ingresa un número real: -2\n",
      "El número se encuentra en el rango [-5, 5]\n"
     ]
    }
   ],
   "source": [
    "x = float(input(\"Ingresa un número real: \"))\n",
    "if x > -5 and x < 5:\n",
    "    print(\"El número se encuentra en el rango [-5, 5]\")\n",
    "else:\n",
    "    print(\"El número esta fuera del rango [-5, 5]\")"
   ]
  },
  {
   "cell_type": "markdown",
   "id": "ca76e7ea",
   "metadata": {},
   "source": [
    "# Ejercicio 3 \n",
    "Escribe una secuencia de instrucciones que permitan leer las coordenadas de un punto (x, y) e indique en cuál de los cuatro cuadrantes se encuentra dicho punto."
   ]
  },
  {
   "cell_type": "code",
   "execution_count": 25,
   "id": "5512ab48",
   "metadata": {},
   "outputs": [
    {
     "name": "stdout",
     "output_type": "stream",
     "text": [
      "Ingresa una coordenada para x: 3.2\n",
      "Ingresa una coordenada para y: -1.2\n",
      "El punto se encuentra en el 4to cuadrante\n"
     ]
    }
   ],
   "source": [
    "x = float(input(\"Ingresa una coordenada para x: \"))\n",
    "y = float(input(\"Ingresa una coordenada para y: \"))\n",
    "\n",
    "if x > 0 and y > 0:\n",
    "    print(\"El punto se encuentra en el 1er cuadrante\")\n",
    "elif x < 0 and y > 0:\n",
    "    print(\"El punto se encuentra en el 2do cuadrante\")\n",
    "elif x < 0 and y < 0:\n",
    "    print(\"El punto se encuentra en el 3er cuadrante\")\n",
    "else:\n",
    "    print(\"El punto se encuentra en el 4to cuadrante\")"
   ]
  },
  {
   "cell_type": "code",
   "execution_count": 26,
   "id": "d56c2dc4",
   "metadata": {},
   "outputs": [
    {
     "name": "stdout",
     "output_type": "stream",
     "text": [
      "Ingresa una coordenada para x: 12.56\n",
      "Ingresa una coordenada para y: 3\n",
      "El punto se encuentra en el 1er cuadrante\n"
     ]
    }
   ],
   "source": [
    "x = float(input(\"Ingresa una coordenada para x: \"))\n",
    "y = float(input(\"Ingresa una coordenada para y: \"))\n",
    "\n",
    "if x > 0 and y > 0:\n",
    "    print(\"El punto se encuentra en el 1er cuadrante\")\n",
    "elif x < 0 and y > 0:\n",
    "    print(\"El punto se encuentra en el 2do cuadrante\")\n",
    "elif x < 0 and y < 0:\n",
    "    print(\"El punto se encuentra en el 3er cuadrante\")\n",
    "else:\n",
    "    print(\"El punto se encuentra en el 4to cuadrante\")"
   ]
  },
  {
   "cell_type": "markdown",
   "id": "cb14865b",
   "metadata": {},
   "source": [
    "# Ejercicio 4\n",
    "Escribe una secuencia de instrucciones que permitan leer dos números enteros y muestre el cociente de la división entera y el resto."
   ]
  },
  {
   "cell_type": "code",
   "execution_count": 51,
   "id": "3bed60a1",
   "metadata": {},
   "outputs": [
    {
     "name": "stdout",
     "output_type": "stream",
     "text": [
      "Ingresa un número entero: 20\n",
      "Ingresa otro número entero: 3\n",
      "El cociente de la división entera es: 6\n",
      "El resto de la division es: 2\n"
     ]
    }
   ],
   "source": [
    "x = int(input(\"Ingresa un número entero: \"))\n",
    "y = int(input(\"Ingresa otro número entero: \"))\n",
    "cociente = x // y\n",
    "print(\"El cociente de la división entera es: \" + str(cociente))\n",
    "resto = x % y\n",
    "print(\"El resto de la division es: \" + str(resto))"
   ]
  },
  {
   "cell_type": "markdown",
   "id": "6c57cb6a",
   "metadata": {},
   "source": [
    "# Ejercicio 5\n",
    "Escribe una secuencia de instrucciones que permitan leer un número entero es cuadrado perfecto o no (piensa la mejor forma de hacerlo con lo que has aprendido hasta ahora)"
   ]
  },
  {
   "cell_type": "code",
   "execution_count": 73,
   "id": "481d0178",
   "metadata": {},
   "outputs": [
    {
     "name": "stdout",
     "output_type": "stream",
     "text": [
      "Ingrese un número: 13\n",
      "Ingrese un valor como exponente: 2\n",
      "169.0 es un cuadrado perfecto\n"
     ]
    }
   ],
   "source": [
    "x = int(input(\"Ingrese un número: \"))\n",
    "y = int(input(\"Ingrese un valor como exponente: \"))\n",
    "valor = math.pow(x, y)\n",
    "if y == 2:\n",
    "    print(str(valor) + \" es un cuadrado perfecto\")\n",
    "else:\n",
    "    print(str(valor) + \" no es un cuadrado perfecto\")"
   ]
  },
  {
   "cell_type": "markdown",
   "id": "9bf5629c",
   "metadata": {},
   "source": [
    "# Ejercicio 6\n",
    "Escribe una expresión que permita determinar si un número entero positivo puede corresponder a un año bisiesto o no. Se consideran años bisiestos aquellos cuyo número es divisible por cuatro excepto los años que son múltiplos de 100, a no ser que lo sean de 400 (por ejemplo el año 2000 fue bisiesto pero el 2100 no lo será)."
   ]
  },
  {
   "cell_type": "markdown",
   "id": "4ca7e4a8",
   "metadata": {},
   "source": [
    "# Ejercicio 7\n",
    "Busca la imagen de un tablero de ajedrez en Google y fíjate en la nomenclatura de las casillas. Escribe una expresión lea una letra y un número de teclado correspondiente a una casilla de un tablero de ajedrez y nos indique si esta casilla es negra o blanca."
   ]
  },
  {
   "cell_type": "code",
   "execution_count": 86,
   "id": "d4c83e2d",
   "metadata": {},
   "outputs": [
    {
     "name": "stdout",
     "output_type": "stream",
     "text": [
      "Ingrese un numero del 1 al 8: 4\n",
      "Ingrese una letra de la A a la H: C\n",
      "Casilla blanca\n"
     ]
    }
   ],
   "source": [
    "a = int(input(\"Ingrese un numero del 1 al 8: \"))\n",
    "b = str(input(\"Ingrese una letra de la A a la H: \"))\n",
    "if (a == 1 or a == 3 or a == 5 or a == 7) and (b == \"A\" or b == \"C\" or b == \"E\" or b == \"G\"):\n",
    "    print(\"Casilla negra\")\n",
    "else:\n",
    "    print(\"Casilla blanca\")\n",
    "    "
   ]
  },
  {
   "cell_type": "code",
   "execution_count": 87,
   "id": "17dec999",
   "metadata": {},
   "outputs": [
    {
     "name": "stdout",
     "output_type": "stream",
     "text": [
      "Ingrese un numero del 1 al 8: 3\n",
      "Ingrese una letra de la A a la H: E\n",
      "Casilla negra\n"
     ]
    }
   ],
   "source": [
    "a = int(input(\"Ingrese un numero del 1 al 8: \"))\n",
    "b = str(input(\"Ingrese una letra de la A a la H: \"))\n",
    "if (a == 1 or a == 3 or a == 5 or a == 7) and (b == \"A\" or b == \"C\" or b == \"E\" or b == \"G\"):\n",
    "    print(\"Casilla negra\")\n",
    "else:\n",
    "    print(\"Casilla blanca\")"
   ]
  }
 ],
 "metadata": {
  "kernelspec": {
   "display_name": "Python 3",
   "language": "python",
   "name": "python3"
  },
  "language_info": {
   "codemirror_mode": {
    "name": "ipython",
    "version": 3
   },
   "file_extension": ".py",
   "mimetype": "text/x-python",
   "name": "python",
   "nbconvert_exporter": "python",
   "pygments_lexer": "ipython3",
   "version": "3.7.10"
  }
 },
 "nbformat": 4,
 "nbformat_minor": 5
}
