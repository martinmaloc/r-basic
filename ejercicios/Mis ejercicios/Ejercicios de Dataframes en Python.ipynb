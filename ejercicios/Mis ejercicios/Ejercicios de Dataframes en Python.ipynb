{
 "cells": [
  {
   "cell_type": "code",
   "execution_count": 1,
   "id": "dfd4bbdb",
   "metadata": {},
   "outputs": [],
   "source": [
    "import pandas as pd\n",
    "import numpy as np"
   ]
  },
  {
   "cell_type": "code",
   "execution_count": 150,
   "id": "890e5505",
   "metadata": {},
   "outputs": [
    {
     "data": {
      "text/html": [
       "<div>\n",
       "<style scoped>\n",
       "    .dataframe tbody tr th:only-of-type {\n",
       "        vertical-align: middle;\n",
       "    }\n",
       "\n",
       "    .dataframe tbody tr th {\n",
       "        vertical-align: top;\n",
       "    }\n",
       "\n",
       "    .dataframe thead th {\n",
       "        text-align: right;\n",
       "    }\n",
       "</style>\n",
       "<table border=\"1\" class=\"dataframe\">\n",
       "  <thead>\n",
       "    <tr style=\"text-align: right;\">\n",
       "      <th></th>\n",
       "      <th>Estudiante</th>\n",
       "      <th>pulso.antes</th>\n",
       "      <th>pulso.despues</th>\n",
       "      <th>hace.deporte</th>\n",
       "      <th>fuma</th>\n",
       "      <th>genero</th>\n",
       "      <th>altura</th>\n",
       "      <th>peso</th>\n",
       "      <th>tipo.actividad</th>\n",
       "    </tr>\n",
       "  </thead>\n",
       "  <tbody>\n",
       "    <tr>\n",
       "      <th>0</th>\n",
       "      <td>1</td>\n",
       "      <td>48</td>\n",
       "      <td>54</td>\n",
       "      <td>no</td>\n",
       "      <td>si</td>\n",
       "      <td>H</td>\n",
       "      <td>68.0</td>\n",
       "      <td>150</td>\n",
       "      <td>nula</td>\n",
       "    </tr>\n",
       "    <tr>\n",
       "      <th>1</th>\n",
       "      <td>2</td>\n",
       "      <td>54</td>\n",
       "      <td>56</td>\n",
       "      <td>no</td>\n",
       "      <td>si</td>\n",
       "      <td>H</td>\n",
       "      <td>69.0</td>\n",
       "      <td>145</td>\n",
       "      <td>moderada</td>\n",
       "    </tr>\n",
       "    <tr>\n",
       "      <th>2</th>\n",
       "      <td>3</td>\n",
       "      <td>54</td>\n",
       "      <td>50</td>\n",
       "      <td>no</td>\n",
       "      <td>no</td>\n",
       "      <td>H</td>\n",
       "      <td>69.0</td>\n",
       "      <td>160</td>\n",
       "      <td>moderada</td>\n",
       "    </tr>\n",
       "    <tr>\n",
       "      <th>3</th>\n",
       "      <td>4</td>\n",
       "      <td>58</td>\n",
       "      <td>70</td>\n",
       "      <td>si</td>\n",
       "      <td>no</td>\n",
       "      <td>H</td>\n",
       "      <td>72.0</td>\n",
       "      <td>145</td>\n",
       "      <td>moderada</td>\n",
       "    </tr>\n",
       "    <tr>\n",
       "      <th>4</th>\n",
       "      <td>5</td>\n",
       "      <td>58</td>\n",
       "      <td>58</td>\n",
       "      <td>no</td>\n",
       "      <td>no</td>\n",
       "      <td>H</td>\n",
       "      <td>66.0</td>\n",
       "      <td>135</td>\n",
       "      <td>intensa</td>\n",
       "    </tr>\n",
       "    <tr>\n",
       "      <th>...</th>\n",
       "      <td>...</td>\n",
       "      <td>...</td>\n",
       "      <td>...</td>\n",
       "      <td>...</td>\n",
       "      <td>...</td>\n",
       "      <td>...</td>\n",
       "      <td>...</td>\n",
       "      <td>...</td>\n",
       "      <td>...</td>\n",
       "    </tr>\n",
       "    <tr>\n",
       "      <th>87</th>\n",
       "      <td>88</td>\n",
       "      <td>92</td>\n",
       "      <td>94</td>\n",
       "      <td>no</td>\n",
       "      <td>si</td>\n",
       "      <td>H</td>\n",
       "      <td>69.0</td>\n",
       "      <td>150</td>\n",
       "      <td>moderada</td>\n",
       "    </tr>\n",
       "    <tr>\n",
       "      <th>88</th>\n",
       "      <td>89</td>\n",
       "      <td>94</td>\n",
       "      <td>92</td>\n",
       "      <td>no</td>\n",
       "      <td>si</td>\n",
       "      <td>M</td>\n",
       "      <td>62.0</td>\n",
       "      <td>131</td>\n",
       "      <td>moderada</td>\n",
       "    </tr>\n",
       "    <tr>\n",
       "      <th>89</th>\n",
       "      <td>90</td>\n",
       "      <td>96</td>\n",
       "      <td>140</td>\n",
       "      <td>si</td>\n",
       "      <td>no</td>\n",
       "      <td>M</td>\n",
       "      <td>61.0</td>\n",
       "      <td>140</td>\n",
       "      <td>moderada</td>\n",
       "    </tr>\n",
       "    <tr>\n",
       "      <th>90</th>\n",
       "      <td>91</td>\n",
       "      <td>96</td>\n",
       "      <td>116</td>\n",
       "      <td>si</td>\n",
       "      <td>no</td>\n",
       "      <td>M</td>\n",
       "      <td>68.0</td>\n",
       "      <td>116</td>\n",
       "      <td>moderada</td>\n",
       "    </tr>\n",
       "    <tr>\n",
       "      <th>91</th>\n",
       "      <td>92</td>\n",
       "      <td>100</td>\n",
       "      <td>115</td>\n",
       "      <td>si</td>\n",
       "      <td>si</td>\n",
       "      <td>M</td>\n",
       "      <td>63.0</td>\n",
       "      <td>121</td>\n",
       "      <td>moderada</td>\n",
       "    </tr>\n",
       "  </tbody>\n",
       "</table>\n",
       "<p>92 rows × 9 columns</p>\n",
       "</div>"
      ],
      "text/plain": [
       "    Estudiante  pulso.antes  pulso.despues hace.deporte fuma genero  altura  \\\n",
       "0            1           48             54           no   si      H    68.0   \n",
       "1            2           54             56           no   si      H    69.0   \n",
       "2            3           54             50           no   no      H    69.0   \n",
       "3            4           58             70           si   no      H    72.0   \n",
       "4            5           58             58           no   no      H    66.0   \n",
       "..         ...          ...            ...          ...  ...    ...     ...   \n",
       "87          88           92             94           no   si      H    69.0   \n",
       "88          89           94             92           no   si      M    62.0   \n",
       "89          90           96            140           si   no      M    61.0   \n",
       "90          91           96            116           si   no      M    68.0   \n",
       "91          92          100            115           si   si      M    63.0   \n",
       "\n",
       "    peso tipo.actividad  \n",
       "0    150           nula  \n",
       "1    145       moderada  \n",
       "2    160       moderada  \n",
       "3    145       moderada  \n",
       "4    135        intensa  \n",
       "..   ...            ...  \n",
       "87   150       moderada  \n",
       "88   131       moderada  \n",
       "89   140       moderada  \n",
       "90   116       moderada  \n",
       "91   121       moderada  \n",
       "\n",
       "[92 rows x 9 columns]"
      ]
     },
     "execution_count": 150,
     "metadata": {},
     "output_type": "execute_result"
    }
   ],
   "source": [
    "run = pd.read_csv(\"../../data/run.csv\")\n",
    "run = run.rename(columns = {'Unnamed: 0': 'Estudiante'})\n",
    "run"
   ]
  },
  {
   "cell_type": "markdown",
   "id": "75669180",
   "metadata": {},
   "source": [
    "### 1. Indica cuantos estudiantes formaron parte del estudio de deporte"
   ]
  },
  {
   "cell_type": "code",
   "execution_count": 23,
   "id": "7d9c512c",
   "metadata": {},
   "outputs": [
    {
     "name": "stdout",
     "output_type": "stream",
     "text": [
      "Del estudio formaron parte 92 estudiantes\n"
     ]
    }
   ],
   "source": [
    "n = run.Estudiante.count()\n",
    "print(\"Del estudio formaron parte \" + str(n) + \" estudiantes\")"
   ]
  },
  {
   "cell_type": "markdown",
   "id": "23c7a8b2",
   "metadata": {},
   "source": [
    "### 2. Indica cuantos individuos son hombres y cuantos son mujeres"
   ]
  },
  {
   "cell_type": "code",
   "execution_count": 34,
   "id": "1e267320",
   "metadata": {},
   "outputs": [
    {
     "data": {
      "text/plain": [
       "genero\n",
       "H    57\n",
       "M    35\n",
       "dtype: int64"
      ]
     },
     "execution_count": 34,
     "metadata": {},
     "output_type": "execute_result"
    }
   ],
   "source": [
    "run.groupby('genero').size()"
   ]
  },
  {
   "cell_type": "markdown",
   "id": "e1671606",
   "metadata": {},
   "source": [
    "### 3. Calcula el porcentaje medio de variación del pulso por minuto entre antes y después de hacer ejercicio y compara el valor de los que hacen ejercicio habitualmente y los que no. ¿Observas mucha diferencia?"
   ]
  },
  {
   "cell_type": "code",
   "execution_count": 151,
   "id": "4038f8b8",
   "metadata": {},
   "outputs": [
    {
     "name": "stdout",
     "output_type": "stream",
     "text": [
      "hace.deporte\n",
      "no     0.208947\n",
      "si    26.214571\n",
      "Name: variacion, dtype: float64\n"
     ]
    }
   ],
   "source": [
    "run.insert(3, 'variacion', 0)\n",
    "\n",
    "def variacion(x):\n",
    "    x['variacion'] = round(((x['pulso.despues'] - x['pulso.antes']) / x['pulso.antes']) * 100, 2)\n",
    "    return x\n",
    "\n",
    "run = run.groupby('Estudiante').apply(variacion)\n",
    "\n",
    "media_var = run.groupby('hace.deporte')['variacion'].mean()\n",
    "print(media_var)"
   ]
  },
  {
   "cell_type": "markdown",
   "id": "ebec1190",
   "metadata": {},
   "source": [
    "### 4. Calcula el porcentaje medio de variación del pulso por minuto entre antes y después de hacer ejercicio  para los estudiantes que hacen ejercicio habitualmente y compara el valor de los hombres con el de las mujeres. ¿Observas mucha diferencia?"
   ]
  },
  {
   "cell_type": "code",
   "execution_count": 161,
   "id": "408d5a05",
   "metadata": {},
   "outputs": [
    {
     "data": {
      "text/plain": [
       "Hombre    19.176250\n",
       "Mujer     41.570909\n",
       "Name: variacion, dtype: float64"
      ]
     },
     "execution_count": 161,
     "metadata": {},
     "output_type": "execute_result"
    }
   ],
   "source": [
    "def filtro(x):\n",
    "    return x['hace.deporte'] == 'si'\n",
    "\n",
    "run1 = run.groupby('Estudiante').filter(filtro)\n",
    "run1 = run1.set_index('genero')\n",
    "\n",
    "mapping = {\n",
    "    'H': 'Hombre',\n",
    "    'M': 'Mujer'\n",
    "}\n",
    "run1.groupby(mapping)['variacion'].mean()"
   ]
  },
  {
   "cell_type": "markdown",
   "id": "f8cdf9d1",
   "metadata": {},
   "source": [
    "### 5. Calcula el porcentaje medio de variación del pulso por minuto entre antes y después de hacer ejercicio para los estudiantes que no hacen ejercicio habitualmente y compara el valor de los fumadores con los no fumadores. ¿Observas mucha diferencia?"
   ]
  },
  {
   "cell_type": "code",
   "execution_count": 170,
   "id": "e0bfd27a",
   "metadata": {},
   "outputs": [
    {
     "data": {
      "text/plain": [
       "fuma\n",
       "no   -0.06561\n",
       "si    0.91250\n",
       "Name: variacion, dtype: float64"
      ]
     },
     "execution_count": 170,
     "metadata": {},
     "output_type": "execute_result"
    }
   ],
   "source": [
    "def filtro2(x):\n",
    "    return x['hace.deporte'] == 'no'\n",
    "\n",
    "run2 = run.groupby('Estudiante').filter(filtro2)\n",
    "run2.groupby('fuma')['variacion'].mean()"
   ]
  },
  {
   "cell_type": "markdown",
   "id": "c044487b",
   "metadata": {},
   "source": [
    "### 6. Calcula el porcentaje medio de variación del pulso por minuto entre antes y después de hacer ejercicio de todos los estudiantes según el tipo de actividad física que realizan. ¿Observas alguna diferencia?"
   ]
  },
  {
   "cell_type": "code",
   "execution_count": 171,
   "id": "47a77881",
   "metadata": {},
   "outputs": [
    {
     "data": {
      "text/plain": [
       "tipo.actividad\n",
       "intensa      1.347619\n",
       "moderada    14.014918\n",
       "nula        12.500000\n",
       "suave        3.745556\n",
       "Name: variacion, dtype: float64"
      ]
     },
     "execution_count": 171,
     "metadata": {},
     "output_type": "execute_result"
    }
   ],
   "source": [
    "run.groupby('tipo.actividad')['variacion'].mean()"
   ]
  },
  {
   "cell_type": "code",
   "execution_count": null,
   "id": "7b2b47ea",
   "metadata": {},
   "outputs": [],
   "source": []
  }
 ],
 "metadata": {
  "kernelspec": {
   "display_name": "Python 3",
   "language": "python",
   "name": "python3"
  },
  "language_info": {
   "codemirror_mode": {
    "name": "ipython",
    "version": 3
   },
   "file_extension": ".py",
   "mimetype": "text/x-python",
   "name": "python",
   "nbconvert_exporter": "python",
   "pygments_lexer": "ipython3",
   "version": "3.7.10"
  }
 },
 "nbformat": 4,
 "nbformat_minor": 5
}
