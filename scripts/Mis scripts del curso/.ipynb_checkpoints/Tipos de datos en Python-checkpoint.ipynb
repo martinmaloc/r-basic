{
 "cells": [
  {
   "cell_type": "markdown",
   "id": "95926ec6",
   "metadata": {},
   "source": [
    "# Listas\n",
    "Son contenedores que permiten almacenar una coleccion de objetos en un orden determinado. Se pueden acceder de forma sencilla "
   ]
  },
  {
   "cell_type": "code",
   "execution_count": 1,
   "id": "b842ebcd",
   "metadata": {},
   "outputs": [],
   "source": [
    "L1 = [] #Lista vacia "
   ]
  },
  {
   "cell_type": "code",
   "execution_count": 2,
   "id": "010bc4b5",
   "metadata": {},
   "outputs": [],
   "source": [
    "L2 = [\"a\", \"b\", \"c\"] # Lista con valores iniciales"
   ]
  },
  {
   "cell_type": "code",
   "execution_count": 3,
   "id": "2a75955f",
   "metadata": {},
   "outputs": [],
   "source": [
    "L3 = [2,3,5,7,11] # Lista con valores enteros"
   ]
  },
  {
   "cell_type": "code",
   "execution_count": 5,
   "id": "f3ac8274",
   "metadata": {},
   "outputs": [],
   "source": [
    "L4 = [\"a\", 5, True, \"Juangabriel\"] # Lista heterogene con varios tipos de datos diferentes"
   ]
  },
  {
   "cell_type": "code",
   "execution_count": 6,
   "id": "41f9378c",
   "metadata": {},
   "outputs": [
    {
     "data": {
      "text/plain": [
       "['a', 5, True, 'Juangabriel']"
      ]
     },
     "execution_count": 6,
     "metadata": {},
     "output_type": "execute_result"
    }
   ],
   "source": [
    "L4"
   ]
  },
  {
   "cell_type": "code",
   "execution_count": 7,
   "id": "8bc484d5",
   "metadata": {},
   "outputs": [],
   "source": [
    "L5 = [0] * 10"
   ]
  },
  {
   "cell_type": "code",
   "execution_count": 8,
   "id": "31471ba3",
   "metadata": {},
   "outputs": [
    {
     "data": {
      "text/plain": [
       "[0, 0, 0, 0, 0, 0, 0, 0, 0, 0]"
      ]
     },
     "execution_count": 8,
     "metadata": {},
     "output_type": "execute_result"
    }
   ],
   "source": [
    "L5"
   ]
  },
  {
   "cell_type": "code",
   "execution_count": 9,
   "id": "bab9c4b3",
   "metadata": {},
   "outputs": [
    {
     "data": {
      "text/plain": [
       "'a'"
      ]
     },
     "execution_count": 9,
     "metadata": {},
     "output_type": "execute_result"
    }
   ],
   "source": [
    "L4 [0] # Las listas en python comienza en la posicion 0. En R en la posicion 1"
   ]
  },
  {
   "cell_type": "code",
   "execution_count": 11,
   "id": "fed724a0",
   "metadata": {},
   "outputs": [],
   "source": [
    "L5[4] = 3.1415 # Modificacion de valores"
   ]
  },
  {
   "cell_type": "code",
   "execution_count": 12,
   "id": "4876169d",
   "metadata": {},
   "outputs": [
    {
     "data": {
      "text/plain": [
       "[0, 0, 0, 0, 3.1415, 0, 0, 0, 0, 0]"
      ]
     },
     "execution_count": 12,
     "metadata": {},
     "output_type": "execute_result"
    }
   ],
   "source": [
    "L5"
   ]
  },
  {
   "cell_type": "code",
   "execution_count": 13,
   "id": "9687940b",
   "metadata": {},
   "outputs": [
    {
     "data": {
      "text/plain": [
       "['a', 5]"
      ]
     },
     "execution_count": 13,
     "metadata": {},
     "output_type": "execute_result"
    }
   ],
   "source": [
    " L4[0:2] #Incluye el primera elemento pero no el ultimo que se pidio"
   ]
  },
  {
   "cell_type": "code",
   "execution_count": 14,
   "id": "51cbf96a",
   "metadata": {},
   "outputs": [],
   "source": [
    "L5[1:4] = [1,2,3] # Para modificar igual, solo modifica el primero no el ultimo"
   ]
  },
  {
   "cell_type": "code",
   "execution_count": 15,
   "id": "3c3d17d7",
   "metadata": {},
   "outputs": [
    {
     "data": {
      "text/plain": [
       "[0, 1, 2, 3, 3.1415, 0, 0, 0, 0, 0]"
      ]
     },
     "execution_count": 15,
     "metadata": {},
     "output_type": "execute_result"
    }
   ],
   "source": [
    "L5"
   ]
  },
  {
   "cell_type": "code",
   "execution_count": 16,
   "id": "0bbfd353",
   "metadata": {},
   "outputs": [],
   "source": [
    "L5.append(8) # AGrega un nuevo elemento al final de la lista"
   ]
  },
  {
   "cell_type": "code",
   "execution_count": 17,
   "id": "18a37621",
   "metadata": {},
   "outputs": [
    {
     "data": {
      "text/plain": [
       "[0, 1, 2, 3, 3.1415, 0, 0, 0, 0, 0, 8]"
      ]
     },
     "execution_count": 17,
     "metadata": {},
     "output_type": "execute_result"
    }
   ],
   "source": [
    "L5"
   ]
  },
  {
   "cell_type": "code",
   "execution_count": 18,
   "id": "d2f06c68",
   "metadata": {},
   "outputs": [],
   "source": [
    "L5.remove(3) # ELimina el primer numero 3 que encuentre en la lista"
   ]
  },
  {
   "cell_type": "code",
   "execution_count": 19,
   "id": "84eb066c",
   "metadata": {},
   "outputs": [
    {
     "data": {
      "text/plain": [
       "[0, 1, 2, 3.1415, 0, 0, 0, 0, 0, 8]"
      ]
     },
     "execution_count": 19,
     "metadata": {},
     "output_type": "execute_result"
    }
   ],
   "source": [
    "L5"
   ]
  },
  {
   "cell_type": "code",
   "execution_count": 24,
   "id": "6245a17f",
   "metadata": {},
   "outputs": [],
   "source": [
    "L5.reverse() #Invierte la lista"
   ]
  },
  {
   "cell_type": "code",
   "execution_count": 25,
   "id": "ddab8785",
   "metadata": {},
   "outputs": [
    {
     "data": {
      "text/plain": [
       "[8, 0, 0, 0, 0, 0, 3.1415, 2, 1, 0]"
      ]
     },
     "execution_count": 25,
     "metadata": {},
     "output_type": "execute_result"
    }
   ],
   "source": [
    "L5"
   ]
  },
  {
   "cell_type": "code",
   "execution_count": 26,
   "id": "7564869c",
   "metadata": {},
   "outputs": [
    {
     "data": {
      "text/plain": [
       "6"
      ]
     },
     "execution_count": 26,
     "metadata": {},
     "output_type": "execute_result"
    }
   ],
   "source": [
    "L5.count(0) # Que cuenta cuantos ceros hay en la lista "
   ]
  },
  {
   "cell_type": "code",
   "execution_count": 28,
   "id": "83d11da5",
   "metadata": {},
   "outputs": [
    {
     "data": {
      "text/plain": [
       "7"
      ]
     },
     "execution_count": 28,
     "metadata": {},
     "output_type": "execute_result"
    }
   ],
   "source": [
    "L5.index(2) # EN que posicion de la lista se encuentra el primer 2"
   ]
  },
  {
   "cell_type": "code",
   "execution_count": 29,
   "id": "eb2cc6db",
   "metadata": {},
   "outputs": [
    {
     "data": {
      "text/plain": [
       "10"
      ]
     },
     "execution_count": 29,
     "metadata": {},
     "output_type": "execute_result"
    }
   ],
   "source": [
    "len(L5) # La longitud de la lista. L5 tiene 10 elementos"
   ]
  },
  {
   "cell_type": "code",
   "execution_count": 30,
   "id": "a6f2815e",
   "metadata": {},
   "outputs": [],
   "source": [
    "L = [1,2,3,4,5,6]"
   ]
  },
  {
   "cell_type": "code",
   "execution_count": 31,
   "id": "25c7e552",
   "metadata": {},
   "outputs": [
    {
     "data": {
      "text/plain": [
       "[2, 4, 6]"
      ]
     },
     "execution_count": 31,
     "metadata": {},
     "output_type": "execute_result"
    }
   ],
   "source": [
    "L[1::2] # Muestrame los valores de L desde el elemento 1 en adelante de dos en dos. Saca los elementos pares"
   ]
  },
  {
   "cell_type": "code",
   "execution_count": 32,
   "id": "a14a3088",
   "metadata": {},
   "outputs": [
    {
     "data": {
      "text/plain": [
       "[1, 2, 3, 4, 5, 6]"
      ]
     },
     "execution_count": 32,
     "metadata": {},
     "output_type": "execute_result"
    }
   ],
   "source": [
    "L[:] # Muestra toda la lista"
   ]
  },
  {
   "cell_type": "code",
   "execution_count": 33,
   "id": "67733928",
   "metadata": {},
   "outputs": [
    {
     "data": {
      "text/plain": [
       "[1, 3, 5]"
      ]
     },
     "execution_count": 33,
     "metadata": {},
     "output_type": "execute_result"
    }
   ],
   "source": [
    "L[::2] # Muestra los elementos desde el elemento 0 en adelante de dos en dos. Saca los elementos impares"
   ]
  },
  {
   "cell_type": "code",
   "execution_count": 34,
   "id": "95def291",
   "metadata": {},
   "outputs": [
    {
     "data": {
      "text/plain": [
       "6"
      ]
     },
     "execution_count": 34,
     "metadata": {},
     "output_type": "execute_result"
    }
   ],
   "source": [
    "L[-1] # Muestra el ultimo elemento de la lista"
   ]
  },
  {
   "cell_type": "code",
   "execution_count": 35,
   "id": "6f6eeafc",
   "metadata": {},
   "outputs": [
    {
     "data": {
      "text/plain": [
       "False"
      ]
     },
     "execution_count": 35,
     "metadata": {},
     "output_type": "execute_result"
    }
   ],
   "source": [
    "8 in L "
   ]
  },
  {
   "cell_type": "code",
   "execution_count": 36,
   "id": "038f8a65",
   "metadata": {},
   "outputs": [
    {
     "data": {
      "text/plain": [
       "True"
      ]
     },
     "execution_count": 36,
     "metadata": {},
     "output_type": "execute_result"
    }
   ],
   "source": [
    "4 in L # Muestra si el valor 4 esta en la lista L"
   ]
  },
  {
   "cell_type": "markdown",
   "id": "d521eb0b",
   "metadata": {},
   "source": [
    "# Bucles"
   ]
  },
  {
   "cell_type": "markdown",
   "id": "97cb0e7f",
   "metadata": {},
   "source": [
    "Los bucles **for** iteran sobre una coleccion (una lista, un string, un objeto iterable)"
   ]
  },
  {
   "cell_type": "code",
   "execution_count": 37,
   "id": "23955bf1",
   "metadata": {},
   "outputs": [
    {
     "name": "stdout",
     "output_type": "stream",
     "text": [
      "1\n",
      "2\n",
      "3\n",
      "4\n",
      "5\n",
      "6\n"
     ]
    }
   ],
   "source": [
    "for numero in L:\n",
    "    print(numero)"
   ]
  },
  {
   "cell_type": "code",
   "execution_count": 38,
   "id": "daf81c8e",
   "metadata": {},
   "outputs": [
    {
     "data": {
      "text/plain": [
       "6"
      ]
     },
     "execution_count": 38,
     "metadata": {},
     "output_type": "execute_result"
    }
   ],
   "source": [
    "numero # La lista numero se queda solamente con el ultimo de la iteracion"
   ]
  },
  {
   "cell_type": "code",
   "execution_count": 39,
   "id": "749980dc",
   "metadata": {},
   "outputs": [
    {
     "name": "stdout",
     "output_type": "stream",
     "text": [
      "0\n",
      "1\n",
      "2\n",
      "3\n",
      "4\n",
      "5\n",
      "6\n",
      "7\n",
      "8\n",
      "9\n"
     ]
    }
   ],
   "source": [
    "for x in range(0,10): #Equivalente range(0,10) = range(10)\n",
    "    print(x)"
   ]
  },
  {
   "cell_type": "code",
   "execution_count": 40,
   "id": "acae6a17",
   "metadata": {},
   "outputs": [
    {
     "name": "stdout",
     "output_type": "stream",
     "text": [
      "M\n",
      "a\n",
      "r\n",
      "t\n",
      "i\n",
      "n\n"
     ]
    }
   ],
   "source": [
    "for c in \"Martin\":\n",
    "    print(c)"
   ]
  },
  {
   "cell_type": "code",
   "execution_count": 55,
   "id": "fe568de7",
   "metadata": {},
   "outputs": [
    {
     "name": "stdout",
     "output_type": "stream",
     "text": [
      "6.34\n"
     ]
    }
   ],
   "source": [
    "notas = [3.5,6.7,8,9,4.5]\n",
    "suma = 0\n",
    "for nota in notas:\n",
    "    suma +nota\n",
    "print(suma/len(notas))"
   ]
  },
  {
   "cell_type": "code",
   "execution_count": 54,
   "id": "6a8fe06d",
   "metadata": {},
   "outputs": [
    {
     "data": {
      "text/plain": [
       "4.5"
      ]
     },
     "execution_count": 54,
     "metadata": {},
     "output_type": "execute_result"
    }
   ],
   "source": [
    "nota"
   ]
  },
  {
   "cell_type": "markdown",
   "id": "7e219364",
   "metadata": {},
   "source": [
    "El bucle **while** se repite hasta que una condicion es falsa"
   ]
  },
  {
   "cell_type": "code",
   "execution_count": 58,
   "id": "949a7b01",
   "metadata": {},
   "outputs": [
    {
     "name": "stdout",
     "output_type": "stream",
     "text": [
      "0\n",
      "1\n",
      "2\n",
      "3\n",
      "4\n",
      "5\n",
      "6\n",
      "7\n",
      "8\n",
      "9\n"
     ]
    }
   ],
   "source": [
    "count = 0\n",
    "while count < 10:\n",
    "    print(count)\n",
    "    count +=1"
   ]
  },
  {
   "cell_type": "code",
   "execution_count": 195,
   "id": "be7be2d4",
   "metadata": {},
   "outputs": [
    {
     "name": "stdout",
     "output_type": "stream",
     "text": [
      "0 2\n",
      "1 3\n",
      "2 5\n",
      "3 7\n",
      "4 11\n",
      "5 17\n",
      "6 19\n",
      "7 23\n",
      "8 29\n"
     ]
    }
   ],
   "source": [
    "primos = [2,3,5,7,11,17,19,23,29] # La funcion enumerate muestra la posicion del elemento en la lista. Hay que asignar un iterador en el for para la posicion y el valor\n",
    "for idx, p in enumerate(primos):\n",
    "    print(idx, p)"
   ]
  },
  {
   "cell_type": "code",
   "execution_count": 63,
   "id": "f4a216aa",
   "metadata": {},
   "outputs": [
    {
     "name": "stdout",
     "output_type": "stream",
     "text": [
      "0\n",
      "1\n",
      "2\n",
      "3\n",
      "4\n",
      "5\n",
      "6\n",
      "7\n",
      "8\n"
     ]
    }
   ],
   "source": [
    "for idx in range(len(primos)): # Obtenemos las posiciones de los elementos de la lista\n",
    "    print(idx)"
   ]
  },
  {
   "cell_type": "markdown",
   "id": "18a96230",
   "metadata": {},
   "source": [
    "#  Tupla\n",
    "Es una coleccion de objetos que no se pueden modificar (tiene tamaño y contenido fijo)."
   ]
  },
  {
   "cell_type": "code",
   "execution_count": 125,
   "id": "19c3265a",
   "metadata": {},
   "outputs": [],
   "source": [
    "p3 = (1,2,\"a\",3.145)"
   ]
  },
  {
   "cell_type": "code",
   "execution_count": 126,
   "id": "2aafc2bc",
   "metadata": {},
   "outputs": [
    {
     "data": {
      "text/plain": [
       "(1, 2, 'a', 3.145)"
      ]
     },
     "execution_count": 126,
     "metadata": {},
     "output_type": "execute_result"
    }
   ],
   "source": [
    "p3"
   ]
  },
  {
   "cell_type": "code",
   "execution_count": 127,
   "id": "5ab90ea8",
   "metadata": {},
   "outputs": [
    {
     "data": {
      "text/plain": [
       "2"
      ]
     },
     "execution_count": 127,
     "metadata": {},
     "output_type": "execute_result"
    }
   ],
   "source": [
    "p3[1]"
   ]
  },
  {
   "cell_type": "code",
   "execution_count": 128,
   "id": "8b128a48",
   "metadata": {},
   "outputs": [],
   "source": [
    "a,b,c,d = p3"
   ]
  },
  {
   "cell_type": "code",
   "execution_count": 129,
   "id": "f30c08a8",
   "metadata": {},
   "outputs": [
    {
     "data": {
      "text/plain": [
       "1"
      ]
     },
     "execution_count": 129,
     "metadata": {},
     "output_type": "execute_result"
    }
   ],
   "source": [
    "a"
   ]
  },
  {
   "cell_type": "code",
   "execution_count": 130,
   "id": "e69d78f8",
   "metadata": {},
   "outputs": [
    {
     "data": {
      "text/plain": [
       "2"
      ]
     },
     "execution_count": 130,
     "metadata": {},
     "output_type": "execute_result"
    }
   ],
   "source": [
    "b"
   ]
  },
  {
   "cell_type": "code",
   "execution_count": 131,
   "id": "47de1ed3",
   "metadata": {},
   "outputs": [
    {
     "data": {
      "text/plain": [
       "'a'"
      ]
     },
     "execution_count": 131,
     "metadata": {},
     "output_type": "execute_result"
    }
   ],
   "source": [
    "c"
   ]
  },
  {
   "cell_type": "code",
   "execution_count": 132,
   "id": "ab3b41d7",
   "metadata": {},
   "outputs": [
    {
     "data": {
      "text/plain": [
       "3.145"
      ]
     },
     "execution_count": 132,
     "metadata": {},
     "output_type": "execute_result"
    }
   ],
   "source": [
    "d"
   ]
  },
  {
   "cell_type": "code",
   "execution_count": 133,
   "id": "5d5a85c1",
   "metadata": {},
   "outputs": [],
   "source": [
    "l3 = list(p3) # A la tupla p3, le transformamos a una lista l3"
   ]
  },
  {
   "cell_type": "code",
   "execution_count": 135,
   "id": "68ee8f41",
   "metadata": {},
   "outputs": [
    {
     "data": {
      "text/plain": [
       "[1, 2, 'a', 3.145]"
      ]
     },
     "execution_count": 135,
     "metadata": {},
     "output_type": "execute_result"
    }
   ],
   "source": [
    "l3"
   ]
  },
  {
   "cell_type": "code",
   "execution_count": 136,
   "id": "f29a533b",
   "metadata": {},
   "outputs": [],
   "source": [
    "p5 = tuple(L5) # A la lista L5 le transformamos a una tupla p5"
   ]
  },
  {
   "cell_type": "code",
   "execution_count": 137,
   "id": "b6592186",
   "metadata": {},
   "outputs": [
    {
     "data": {
      "text/plain": [
       "(8, 0, 0, 0, 0, 0, 3.1415, 2, 1, 0)"
      ]
     },
     "execution_count": 137,
     "metadata": {},
     "output_type": "execute_result"
    }
   ],
   "source": [
    "p5"
   ]
  },
  {
   "cell_type": "code",
   "execution_count": 167,
   "id": "20e01202",
   "metadata": {},
   "outputs": [
    {
     "name": "stdout",
     "output_type": "stream",
     "text": [
      "Introduce cualquier cosa: 6 4 2 3 4 5 65 7 6 5\n",
      "['6', '4', '2', '3', '4', '5', '65', '7', '6', '5']\n",
      "('6', '4', '2', '3', '4', '5', '65', '7', '6', '5')\n"
     ]
    }
   ],
   "source": [
    "x = input(\"Introduce cualquier cosa: \")\n",
    "x_lista = x.split(\" \")\n",
    "print(x_lista)\n",
    "x_tupla = tuple(x_lista)\n",
    "print(x_tupla)"
   ]
  },
  {
   "cell_type": "code",
   "execution_count": 169,
   "id": "34357c53",
   "metadata": {},
   "outputs": [
    {
     "name": "stdout",
     "output_type": "stream",
     "text": [
      "7\n",
      "5\n",
      "3\n",
      "4\n",
      "5\n",
      "6\n",
      "66\n",
      "8\n",
      "7\n",
      "6\n"
     ]
    }
   ],
   "source": [
    "for x in x_lista:\n",
    "    print(int(x)+1)"
   ]
  },
  {
   "cell_type": "code",
   "execution_count": 175,
   "id": "69608cc6",
   "metadata": {},
   "outputs": [
    {
     "name": "stdout",
     "output_type": "stream",
     "text": [
      "35.269999999999996\n"
     ]
    }
   ],
   "source": [
    "for x in x_lista:\n",
    "    suma += int(x)\n",
    "print(suma/len(x_lista))"
   ]
  },
  {
   "cell_type": "markdown",
   "id": "4a978bb3",
   "metadata": {},
   "source": [
    "# Diccionario\n",
    "Coleccion no ordenada de pares de valores: claves <-> valores. Se indexa no por posiciones, sino por claves "
   ]
  },
  {
   "cell_type": "code",
   "execution_count": 193,
   "id": "1d873044",
   "metadata": {},
   "outputs": [
    {
     "name": "stdout",
     "output_type": "stream",
     "text": [
      "Introduce aqui tu nombre: Martin\n",
      "Hola Martin\n"
     ]
    }
   ],
   "source": [
    "nombre = input(\"Introduce aqui tu nombre: \")\n",
    "print(\"Hola %s\"%nombre)"
   ]
  },
  {
   "cell_type": "code",
   "execution_count": 196,
   "id": "31d9ae68",
   "metadata": {},
   "outputs": [
    {
     "name": "stdout",
     "output_type": "stream",
     "text": [
      "Estos son numeros primos: [2, 3, 5, 7, 11, 17, 19, 23, 29]\n"
     ]
    }
   ],
   "source": [
    "print(\"Estos son numeros primos: %s\"%primos) # %s porque queremos sustituir por un string "
   ]
  },
  {
   "cell_type": "code",
   "execution_count": 197,
   "id": "d65a0352",
   "metadata": {},
   "outputs": [
    {
     "name": "stdout",
     "output_type": "stream",
     "text": [
      "Esto es un numero: 519\n"
     ]
    }
   ],
   "source": [
    "print(\"Esto es un numero: %d\"%suma) # %d porque queremos sustitior por un numero entero"
   ]
  },
  {
   "cell_type": "code",
   "execution_count": 198,
   "id": "6cd71d59",
   "metadata": {},
   "outputs": [
    {
     "name": "stdout",
     "output_type": "stream",
     "text": [
      "Esto es un decimal: 519.700000\n"
     ]
    }
   ],
   "source": [
    "print(\"Esto es un decimal: %f\"%suma) # %f porque queremos sustituir por un numero decimal"
   ]
  },
  {
   "cell_type": "code",
   "execution_count": 199,
   "id": "38e5f388",
   "metadata": {},
   "outputs": [
    {
     "name": "stdout",
     "output_type": "stream",
     "text": [
      "Esto es un decimal: 519.70\n"
     ]
    }
   ],
   "source": [
    "print(\"Esto es un decimal: %.2f\"%suma) # %.2f para imprimir con 2 decimales"
   ]
  },
  {
   "cell_type": "code",
   "execution_count": 210,
   "id": "3398e55f",
   "metadata": {},
   "outputs": [],
   "source": [
    "edad = {\"Martin\": 23,     #Esto es un diccionario. La clave esta entre \"\" y por lo general es un string, y luego el valor\n",
    "        \"Eduarda\": 19, \n",
    "        \"Fabricio\": 51}"
   ]
  },
  {
   "cell_type": "code",
   "execution_count": 212,
   "id": "36dcd289",
   "metadata": {},
   "outputs": [
    {
     "data": {
      "text/plain": [
       "{'Martin': 23, 'Eduarda': 19, 'Fabricio': 51}"
      ]
     },
     "execution_count": 212,
     "metadata": {},
     "output_type": "execute_result"
    }
   ],
   "source": [
    "edad"
   ]
  },
  {
   "cell_type": "code",
   "execution_count": 211,
   "id": "58ce0bb9",
   "metadata": {},
   "outputs": [
    {
     "data": {
      "text/plain": [
       "23"
      ]
     },
     "execution_count": 211,
     "metadata": {},
     "output_type": "execute_result"
    }
   ],
   "source": [
    "edad[\"Martin\"]"
   ]
  },
  {
   "cell_type": "code",
   "execution_count": 213,
   "id": "6554bf27",
   "metadata": {},
   "outputs": [],
   "source": [
    "edad[\"Martin\"] = 24"
   ]
  },
  {
   "cell_type": "code",
   "execution_count": 214,
   "id": "c59e8cf6",
   "metadata": {},
   "outputs": [
    {
     "data": {
      "text/plain": [
       "{'Martin': 24, 'Eduarda': 19, 'Fabricio': 51}"
      ]
     },
     "execution_count": 214,
     "metadata": {},
     "output_type": "execute_result"
    }
   ],
   "source": [
    "edad"
   ]
  },
  {
   "cell_type": "code",
   "execution_count": 216,
   "id": "4207264f",
   "metadata": {},
   "outputs": [
    {
     "data": {
      "text/plain": [
       "dict_keys(['Martin', 'Eduarda', 'Fabricio'])"
      ]
     },
     "execution_count": 216,
     "metadata": {},
     "output_type": "execute_result"
    }
   ],
   "source": [
    "edad.keys()"
   ]
  },
  {
   "cell_type": "code",
   "execution_count": 217,
   "id": "34b1deb9",
   "metadata": {},
   "outputs": [
    {
     "data": {
      "text/plain": [
       "dict_values([24, 19, 51])"
      ]
     },
     "execution_count": 217,
     "metadata": {},
     "output_type": "execute_result"
    }
   ],
   "source": [
    "edad.values()"
   ]
  },
  {
   "cell_type": "code",
   "execution_count": 218,
   "id": "655b584c",
   "metadata": {},
   "outputs": [
    {
     "data": {
      "text/plain": [
       "3"
      ]
     },
     "execution_count": 218,
     "metadata": {},
     "output_type": "execute_result"
    }
   ],
   "source": [
    "len(edad)"
   ]
  },
  {
   "cell_type": "code",
   "execution_count": 219,
   "id": "2e36bd12",
   "metadata": {},
   "outputs": [
    {
     "data": {
      "text/plain": [
       "False"
      ]
     },
     "execution_count": 219,
     "metadata": {},
     "output_type": "execute_result"
    }
   ],
   "source": [
    "\"Pepe\" in edad"
   ]
  },
  {
   "cell_type": "code",
   "execution_count": 220,
   "id": "46263d8a",
   "metadata": {},
   "outputs": [
    {
     "data": {
      "text/plain": [
       "True"
      ]
     },
     "execution_count": 220,
     "metadata": {},
     "output_type": "execute_result"
    }
   ],
   "source": [
    "\"Martin\" in edad"
   ]
  },
  {
   "cell_type": "code",
   "execution_count": 221,
   "id": "ac237dd8",
   "metadata": {},
   "outputs": [
    {
     "data": {
      "text/plain": [
       "True"
      ]
     },
     "execution_count": 221,
     "metadata": {},
     "output_type": "execute_result"
    }
   ],
   "source": [
    "\"Maria\" not in edad"
   ]
  },
  {
   "cell_type": "code",
   "execution_count": 223,
   "id": "927652b5",
   "metadata": {},
   "outputs": [],
   "source": [
    "del edad[\"Martin\"] # Borra la clave martin"
   ]
  },
  {
   "cell_type": "code",
   "execution_count": 224,
   "id": "e6358de9",
   "metadata": {},
   "outputs": [
    {
     "data": {
      "text/plain": [
       "{'Eduarda': 19, 'Fabricio': 51}"
      ]
     },
     "execution_count": 224,
     "metadata": {},
     "output_type": "execute_result"
    }
   ],
   "source": [
    "edad"
   ]
  },
  {
   "cell_type": "code",
   "execution_count": 226,
   "id": "e4b01e9d",
   "metadata": {},
   "outputs": [],
   "source": [
    "notas = {\"a1\": 5.4, \"a2\": 4, \"a3\": 10}"
   ]
  },
  {
   "cell_type": "code",
   "execution_count": 227,
   "id": "4507508d",
   "metadata": {},
   "outputs": [
    {
     "data": {
      "text/plain": [
       "{'a1': 5.4, 'a2': 4, 'a3': 10}"
      ]
     },
     "execution_count": 227,
     "metadata": {},
     "output_type": "execute_result"
    }
   ],
   "source": [
    "notas"
   ]
  },
  {
   "cell_type": "code",
   "execution_count": 228,
   "id": "a6966754",
   "metadata": {},
   "outputs": [
    {
     "data": {
      "text/plain": [
       "6.4"
      ]
     },
     "execution_count": 228,
     "metadata": {},
     "output_type": "execute_result"
    }
   ],
   "source": [
    "notas[\"a1\"] + 1"
   ]
  },
  {
   "cell_type": "code",
   "execution_count": null,
   "id": "b544be54",
   "metadata": {},
   "outputs": [],
   "source": []
  }
 ],
 "metadata": {
  "kernelspec": {
   "display_name": "Python 3",
   "language": "python",
   "name": "python3"
  },
  "language_info": {
   "codemirror_mode": {
    "name": "ipython",
    "version": 3
   },
   "file_extension": ".py",
   "mimetype": "text/x-python",
   "name": "python",
   "nbconvert_exporter": "python",
   "pygments_lexer": "ipython3",
   "version": "3.7.10"
  }
 },
 "nbformat": 4,
 "nbformat_minor": 5
}
