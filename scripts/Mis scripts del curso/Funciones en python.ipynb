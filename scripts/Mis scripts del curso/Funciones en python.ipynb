{
 "cells": [
  {
   "cell_type": "markdown",
   "id": "43fb5b72",
   "metadata": {},
   "source": [
    "# Funciones en python"
   ]
  },
  {
   "cell_type": "code",
   "execution_count": 1,
   "id": "078c9c97",
   "metadata": {},
   "outputs": [],
   "source": [
    "def suma(x, y):        #def crea una funcion y return es como lo {} de R\n",
    "    return x + y"
   ]
  },
  {
   "cell_type": "code",
   "execution_count": 2,
   "id": "5909027f",
   "metadata": {},
   "outputs": [],
   "source": [
    "#esto es un metodo\n",
    "class Operaciones(object):\n",
    "    def suma(self, x, y):\n",
    "        self.resultado = x + y \n",
    "        return self.resultado"
   ]
  },
  {
   "cell_type": "code",
   "execution_count": null,
   "id": "f6c5c74d",
   "metadata": {},
   "outputs": [],
   "source": [
    "# el primer argumento de un metodo siempre sera self"
   ]
  },
  {
   "cell_type": "code",
   "execution_count": 3,
   "id": "3467c9e6",
   "metadata": {},
   "outputs": [
    {
     "data": {
      "text/plain": [
       "5"
      ]
     },
     "execution_count": 3,
     "metadata": {},
     "output_type": "execute_result"
    }
   ],
   "source": [
    "suma(2, 3)"
   ]
  },
  {
   "cell_type": "code",
   "execution_count": 4,
   "id": "64e6565a",
   "metadata": {},
   "outputs": [],
   "source": [
    "operInstance = Operaciones()"
   ]
  },
  {
   "cell_type": "code",
   "execution_count": 5,
   "id": "79be0616",
   "metadata": {},
   "outputs": [
    {
     "data": {
      "text/plain": [
       "5"
      ]
     },
     "execution_count": 5,
     "metadata": {},
     "output_type": "execute_result"
    }
   ],
   "source": [
    "operInstance.suma(2, 3) #como math.\"algo\", aqui el math seria operinstance y suma seria la funcion dentro de esa clase"
   ]
  },
  {
   "cell_type": "code",
   "execution_count": 6,
   "id": "2cd80f57",
   "metadata": {},
   "outputs": [],
   "source": [
    "def saludar():\n",
    "    print(\"Hola, estoy programando!\")\n",
    "    return"
   ]
  },
  {
   "cell_type": "code",
   "execution_count": 7,
   "id": "fce65a77",
   "metadata": {},
   "outputs": [
    {
     "name": "stdout",
     "output_type": "stream",
     "text": [
      "Hola, estoy programando!\n"
     ]
    }
   ],
   "source": [
    "saludar()"
   ]
  },
  {
   "cell_type": "code",
   "execution_count": 10,
   "id": "f775c22f",
   "metadata": {},
   "outputs": [],
   "source": [
    "def saludar():\n",
    "    name = str(input(\"Intorduce tu nombre: \"))\n",
    "    if name:\n",
    "        print(\"Hola \" + name)\n",
    "    else:\n",
    "        print(\"Hola, estoy programando!\")\n",
    "    return"
   ]
  },
  {
   "cell_type": "code",
   "execution_count": 11,
   "id": "516d4604",
   "metadata": {},
   "outputs": [
    {
     "name": "stdout",
     "output_type": "stream",
     "text": [
      "Intorduce tu nombre: Martin\n",
      "Hola Martin\n"
     ]
    }
   ],
   "source": [
    "saludar()"
   ]
  },
  {
   "cell_type": "code",
   "execution_count": 12,
   "id": "58eddbbd",
   "metadata": {},
   "outputs": [
    {
     "name": "stdout",
     "output_type": "stream",
     "text": [
      "Intorduce tu nombre: \n",
      "Hola, estoy programando!\n"
     ]
    }
   ],
   "source": [
    "saludar()"
   ]
  },
  {
   "cell_type": "code",
   "execution_count": 13,
   "id": "e47114de",
   "metadata": {},
   "outputs": [],
   "source": [
    "def sumaresta(x, y):\n",
    "    suma = x + y\n",
    "    resta = x - y\n",
    "    return (suma, resta)"
   ]
  },
  {
   "cell_type": "code",
   "execution_count": 14,
   "id": "3a33aabe",
   "metadata": {},
   "outputs": [
    {
     "data": {
      "text/plain": [
       "(9, 1)"
      ]
     },
     "execution_count": 14,
     "metadata": {},
     "output_type": "execute_result"
    }
   ],
   "source": [
    "sumaresta(5, 4)"
   ]
  },
  {
   "cell_type": "markdown",
   "id": "3e7961d9",
   "metadata": {},
   "source": [
    "# Argumentos variables y lamdas"
   ]
  },
  {
   "cell_type": "code",
   "execution_count": 15,
   "id": "a304817f",
   "metadata": {},
   "outputs": [],
   "source": [
    "def suma(*args):\n",
    "    return sum(args)"
   ]
  },
  {
   "cell_type": "code",
   "execution_count": 16,
   "id": "ebbab9ad",
   "metadata": {},
   "outputs": [],
   "source": [
    "#cuando no sabemos cuantos argumentos iran en la funcion utilizamos un * delante del parametro que puede variar\n",
    "#el asterisco delante del parametro representa que no sabemos que longitud ira a tomar dicho parametro"
   ]
  },
  {
   "cell_type": "code",
   "execution_count": 17,
   "id": "6049e220",
   "metadata": {},
   "outputs": [
    {
     "data": {
      "text/plain": [
       "15"
      ]
     },
     "execution_count": 17,
     "metadata": {},
     "output_type": "execute_result"
    }
   ],
   "source": [
    "suma(1,2,3,4,5)"
   ]
  },
  {
   "cell_type": "code",
   "execution_count": 18,
   "id": "e09913fc",
   "metadata": {},
   "outputs": [
    {
     "data": {
      "text/plain": [
       "3"
      ]
     },
     "execution_count": 18,
     "metadata": {},
     "output_type": "execute_result"
    }
   ],
   "source": [
    "suma(1,2)"
   ]
  },
  {
   "cell_type": "code",
   "execution_count": 19,
   "id": "badd0854",
   "metadata": {},
   "outputs": [
    {
     "data": {
      "text/plain": [
       "28"
      ]
     },
     "execution_count": 19,
     "metadata": {},
     "output_type": "execute_result"
    }
   ],
   "source": [
    "suma(1,2,3,4,5,6,7)"
   ]
  },
  {
   "cell_type": "code",
   "execution_count": 27,
   "id": "abe2e0f3",
   "metadata": {},
   "outputs": [],
   "source": [
    "def sumacuadrados(*datos):\n",
    "    total = 0\n",
    "    for d in datos:\n",
    "        total = total + d**2\n",
    "       #total += d**2 , lo anterior es lo mismo que la expresion de arriba pero abreviada \n",
    "    return total"
   ]
  },
  {
   "cell_type": "code",
   "execution_count": 28,
   "id": "67ff1f07",
   "metadata": {},
   "outputs": [
    {
     "data": {
      "text/plain": [
       "30"
      ]
     },
     "execution_count": 28,
     "metadata": {},
     "output_type": "execute_result"
    }
   ],
   "source": [
    "sumacuadrados(1,2,3,4)"
   ]
  },
  {
   "cell_type": "code",
   "execution_count": 29,
   "id": "6b3b6beb",
   "metadata": {},
   "outputs": [
    {
     "data": {
      "text/plain": [
       "1182.6025"
      ]
     },
     "execution_count": 29,
     "metadata": {},
     "output_type": "execute_result"
    }
   ],
   "source": [
    "sumacuadrados(1,33,-4,3.55,8)"
   ]
  },
  {
   "cell_type": "markdown",
   "id": "4a19202b",
   "metadata": {},
   "source": [
    "# Funciones anonimas (funcion lambda)"
   ]
  },
  {
   "cell_type": "code",
   "execution_count": 30,
   "id": "033bc5aa",
   "metadata": {},
   "outputs": [],
   "source": [
    "doble = lambda x: x*2"
   ]
  },
  {
   "cell_type": "code",
   "execution_count": 31,
   "id": "dbad3f88",
   "metadata": {},
   "outputs": [
    {
     "data": {
      "text/plain": [
       "8"
      ]
     },
     "execution_count": 31,
     "metadata": {},
     "output_type": "execute_result"
    }
   ],
   "source": [
    "doble(4)"
   ]
  },
  {
   "cell_type": "code",
   "execution_count": 33,
   "id": "eeb54280",
   "metadata": {},
   "outputs": [],
   "source": [
    "cuadrado = lambda x: x**2"
   ]
  },
  {
   "cell_type": "code",
   "execution_count": 34,
   "id": "86dd6529",
   "metadata": {},
   "outputs": [
    {
     "data": {
      "text/plain": [
       "25"
      ]
     },
     "execution_count": 34,
     "metadata": {},
     "output_type": "execute_result"
    }
   ],
   "source": [
    "cuadrado(5)"
   ]
  },
  {
   "cell_type": "code",
   "execution_count": 37,
   "id": "9e3ecbef",
   "metadata": {},
   "outputs": [],
   "source": [
    "suma = lambda x, y: x+y #equivalente a la primera funcion del notebook"
   ]
  },
  {
   "cell_type": "code",
   "execution_count": 38,
   "id": "afd61652",
   "metadata": {},
   "outputs": [
    {
     "data": {
      "text/plain": [
       "303"
      ]
     },
     "execution_count": 38,
     "metadata": {},
     "output_type": "execute_result"
    }
   ],
   "source": [
    "suma( 300,3)"
   ]
  },
  {
   "cell_type": "code",
   "execution_count": 39,
   "id": "dc9ed553",
   "metadata": {},
   "outputs": [],
   "source": [
    "from functools import reduce #importame de la libreria functools, reduce"
   ]
  },
  {
   "cell_type": "code",
   "execution_count": 40,
   "id": "f54a7e3d",
   "metadata": {},
   "outputs": [],
   "source": [
    "data = [1,2,3,4,5,6,7,8,9]"
   ]
  },
  {
   "cell_type": "code",
   "execution_count": 41,
   "id": "0f0816e0",
   "metadata": {},
   "outputs": [
    {
     "data": {
      "text/plain": [
       "[1, 2, 3, 4, 5, 6, 7, 8, 9]"
      ]
     },
     "execution_count": 41,
     "metadata": {},
     "output_type": "execute_result"
    }
   ],
   "source": [
    "data"
   ]
  },
  {
   "cell_type": "code",
   "execution_count": 46,
   "id": "5b2b6315",
   "metadata": {},
   "outputs": [],
   "source": [
    "filtered_data =list(filter(lambda x: (x*2 > 8), data)) #filter filtra segun una condicion booleana"
   ]
  },
  {
   "cell_type": "code",
   "execution_count": 47,
   "id": "dfde9ae3",
   "metadata": {},
   "outputs": [
    {
     "data": {
      "text/plain": [
       "[5, 6, 7, 8, 9]"
      ]
     },
     "execution_count": 47,
     "metadata": {},
     "output_type": "execute_result"
    }
   ],
   "source": [
    "filtered_data"
   ]
  },
  {
   "cell_type": "code",
   "execution_count": 50,
   "id": "779bec15",
   "metadata": {},
   "outputs": [],
   "source": [
    "mapped_data = list(map(lambda x: x*2, data)) #map=mapea, mapea es tranformar "
   ]
  },
  {
   "cell_type": "code",
   "execution_count": 51,
   "id": "1c14d85e",
   "metadata": {},
   "outputs": [
    {
     "data": {
      "text/plain": [
       "[2, 4, 6, 8, 10, 12, 14, 16, 18]"
      ]
     },
     "execution_count": 51,
     "metadata": {},
     "output_type": "execute_result"
    }
   ],
   "source": [
    "mapped_data"
   ]
  },
  {
   "cell_type": "code",
   "execution_count": 52,
   "id": "44a539f5",
   "metadata": {},
   "outputs": [],
   "source": [
    "reduced_data = reduce(lambda x, y: x+y, data) #coge el primer numero como x (siempre 0), lo suma con y, y a ese resultado\n",
    "                                              #lo toma como primero nuevamente y lo vuelve a sumar con el siguiente numero\n",
    "    #redduce acumula los datos que se dan"
   ]
  },
  {
   "cell_type": "code",
   "execution_count": 53,
   "id": "1f6c5453",
   "metadata": {},
   "outputs": [
    {
     "data": {
      "text/plain": [
       "45"
      ]
     },
     "execution_count": 53,
     "metadata": {},
     "output_type": "execute_result"
    }
   ],
   "source": [
    "reduced_data"
   ]
  },
  {
   "cell_type": "code",
   "execution_count": null,
   "id": "c3f1242a",
   "metadata": {},
   "outputs": [],
   "source": []
  }
 ],
 "metadata": {
  "kernelspec": {
   "display_name": "Python 3",
   "language": "python",
   "name": "python3"
  },
  "language_info": {
   "codemirror_mode": {
    "name": "ipython",
    "version": 3
   },
   "file_extension": ".py",
   "mimetype": "text/x-python",
   "name": "python",
   "nbconvert_exporter": "python",
   "pygments_lexer": "ipython3",
   "version": "3.7.10"
  }
 },
 "nbformat": 4,
 "nbformat_minor": 5
}
