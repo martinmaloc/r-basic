{
 "cells": [
  {
   "cell_type": "markdown",
   "id": "44d16aa5",
   "metadata": {},
   "source": [
    "# Entrada y salida de datos"
   ]
  },
  {
   "cell_type": "code",
   "execution_count": 6,
   "id": "5f3e9992",
   "metadata": {},
   "outputs": [
    {
     "name": "stdout",
     "output_type": "stream",
     "text": [
      "Hola, me llamo Martin Malo\n"
     ]
    }
   ],
   "source": [
    "print(\"Hola, me llamo Martin Malo\")"
   ]
  },
  {
   "cell_type": "code",
   "execution_count": 7,
   "id": "da9eef5f",
   "metadata": {},
   "outputs": [
    {
     "name": "stdout",
     "output_type": "stream",
     "text": [
      "5\n"
     ]
    }
   ],
   "source": [
    "x = 5\n",
    "print(x)"
   ]
  },
  {
   "cell_type": "code",
   "execution_count": 8,
   "id": "b52e74aa",
   "metadata": {},
   "outputs": [
    {
     "name": "stdout",
     "output_type": "stream",
     "text": [
      "El valor de variable x es: 5\n"
     ]
    }
   ],
   "source": [
    "print(\"El valor de variable x es: \"+ str(x)) #str cambia la clase del dato a la misma del a string, string es lo mismo\n",
    "                                            #que character de R"
   ]
  },
  {
   "cell_type": "code",
   "execution_count": 9,
   "id": "1f0021bb",
   "metadata": {},
   "outputs": [
    {
     "name": "stdout",
     "output_type": "stream",
     "text": [
      "Introduce aqui tu nombre: Martin\n"
     ]
    }
   ],
   "source": [
    "texto = input(\"Introduce aqui tu nombre: \")"
   ]
  },
  {
   "cell_type": "code",
   "execution_count": 10,
   "id": "4c4ad574",
   "metadata": {},
   "outputs": [
    {
     "data": {
      "text/plain": [
       "'Martin'"
      ]
     },
     "execution_count": 10,
     "metadata": {},
     "output_type": "execute_result"
    }
   ],
   "source": [
    "texto"
   ]
  },
  {
   "cell_type": "code",
   "execution_count": 11,
   "id": "80b08525",
   "metadata": {},
   "outputs": [
    {
     "name": "stdout",
     "output_type": "stream",
     "text": [
      "Introduce aqui tu edad30\n"
     ]
    }
   ],
   "source": [
    "numero = int(input(\"Introduce aqui tu edad\"))"
   ]
  },
  {
   "cell_type": "code",
   "execution_count": 12,
   "id": "7102315f",
   "metadata": {},
   "outputs": [
    {
     "data": {
      "text/plain": [
       "30"
      ]
     },
     "execution_count": 12,
     "metadata": {},
     "output_type": "execute_result"
    }
   ],
   "source": [
    "numero"
   ]
  },
  {
   "cell_type": "code",
   "execution_count": 13,
   "id": "dcfeba0c",
   "metadata": {},
   "outputs": [
    {
     "data": {
      "text/plain": [
       "60"
      ]
     },
     "execution_count": 13,
     "metadata": {},
     "output_type": "execute_result"
    }
   ],
   "source": [
    "2*numero "
   ]
  },
  {
   "cell_type": "markdown",
   "id": "06994990",
   "metadata": {},
   "source": [
    "# Operadores de decision\n",
    "que lineas de codigo deben ejecutarse bajo algunas condiciones"
   ]
  },
  {
   "cell_type": "code",
   "execution_count": 15,
   "id": "833f19b6",
   "metadata": {},
   "outputs": [
    {
     "name": "stdout",
     "output_type": "stream",
     "text": [
      "Escribe un número 5\n"
     ]
    }
   ],
   "source": [
    "x = int(input(\"Escribe un número \"))"
   ]
  },
  {
   "cell_type": "code",
   "execution_count": 16,
   "id": "0367fab5",
   "metadata": {},
   "outputs": [
    {
     "name": "stdout",
     "output_type": "stream",
     "text": [
      "Has escrito el numero 5\n"
     ]
    }
   ],
   "source": [
    "if x == 5:\n",
    "    print(\"Has escrito el numero 5\")"
   ]
  },
  {
   "cell_type": "code",
   "execution_count": 17,
   "id": "36ffec3f",
   "metadata": {},
   "outputs": [
    {
     "name": "stdout",
     "output_type": "stream",
     "text": [
      "Has escrito un numero menor que 10 y mayor  o igual a 5\n"
     ]
    }
   ],
   "source": [
    "if x < 5:\n",
    "    print(\"Has escrito un numero menor que 5\")\n",
    "elif x < 10:\n",
    "    print(\"Has escrito un numero menor que 10 y mayor  o igual a 5\")\n",
    "else:\n",
    "    print(\"El numero que has escrito es mayor o igual que 10\")"
   ]
  },
  {
   "cell_type": "code",
   "execution_count": 19,
   "id": "7ec801a7",
   "metadata": {},
   "outputs": [
    {
     "name": "stdout",
     "output_type": "stream",
     "text": [
      "Has escrito el numero: 2\n",
      "Has escrito un numero menor que 5\n"
     ]
    }
   ],
   "source": [
    "x = int(input(\"Has escrito el numero: \"))\n",
    "if x < 5:\n",
    "    print(\"Has escrito un numero menor que 5\")\n",
    "elif x < 10:\n",
    "    print(\"Has escrito un numero menor que 10 y mayor  o igual a 5\")\n",
    "else:\n",
    "    print(\"El numero que has escrito es mayor o igual que 10\")"
   ]
  },
  {
   "cell_type": "code",
   "execution_count": 22,
   "id": "75e33183",
   "metadata": {},
   "outputs": [
    {
     "name": "stdout",
     "output_type": "stream",
     "text": [
      "Has escrito el numero: 2\n",
      "Has escrito un numero en el rango [0, 10]\n"
     ]
    }
   ],
   "source": [
    "x = int(input(\"Has escrito el numero: \"))\n",
    "if x > 0 and x < 10:\n",
    "    print(\"Has escrito un numero en el rango [0, 10]\")"
   ]
  },
  {
   "cell_type": "code",
   "execution_count": 24,
   "id": "3cd691f0",
   "metadata": {},
   "outputs": [
    {
     "name": "stdout",
     "output_type": "stream",
     "text": [
      "Has escrito el numero: -3\n",
      "Tu numero escrito no se encuentra dentro del rango [0, 10]\n"
     ]
    }
   ],
   "source": [
    "x = int(input(\"Has escrito el numero: \"))\n",
    "if x < 0 or x > 10:\n",
    "    print(\"Tu numero escrito no se encuentra dentro del rango [0, 10]\")"
   ]
  },
  {
   "cell_type": "markdown",
   "id": "d9537da0",
   "metadata": {},
   "source": [
    "# Funciones matemáticas"
   ]
  },
  {
   "cell_type": "code",
   "execution_count": 2,
   "id": "46485860",
   "metadata": {},
   "outputs": [],
   "source": [
    "import math"
   ]
  },
  {
   "cell_type": "code",
   "execution_count": 3,
   "id": "150ba6e3",
   "metadata": {},
   "outputs": [
    {
     "data": {
      "text/plain": [
       "2.718281828459045"
      ]
     },
     "execution_count": 3,
     "metadata": {},
     "output_type": "execute_result"
    }
   ],
   "source": [
    "math.exp(1)"
   ]
  },
  {
   "cell_type": "code",
   "execution_count": 4,
   "id": "578acb1e",
   "metadata": {},
   "outputs": [
    {
     "data": {
      "text/plain": [
       "20.085536923187668"
      ]
     },
     "execution_count": 4,
     "metadata": {},
     "output_type": "execute_result"
    }
   ],
   "source": [
    "math.exp(3) #la funcion es mas precisa"
   ]
  },
  {
   "cell_type": "code",
   "execution_count": 5,
   "id": "ff3b8921",
   "metadata": {},
   "outputs": [
    {
     "data": {
      "text/plain": [
       "20.085536923187664"
      ]
     },
     "execution_count": 5,
     "metadata": {},
     "output_type": "execute_result"
    }
   ],
   "source": [
    "math.e**3"
   ]
  },
  {
   "cell_type": "code",
   "execution_count": 8,
   "id": "3ea4aca5",
   "metadata": {},
   "outputs": [
    {
     "data": {
      "text/plain": [
       "9.0"
      ]
     },
     "execution_count": 8,
     "metadata": {},
     "output_type": "execute_result"
    }
   ],
   "source": [
    "math.pow(3, 2) #la funcion esta haciendo 3**2"
   ]
  },
  {
   "cell_type": "code",
   "execution_count": 13,
   "id": "16586630",
   "metadata": {},
   "outputs": [
    {
     "data": {
      "text/plain": [
       "1.718281828459045"
      ]
     },
     "execution_count": 13,
     "metadata": {},
     "output_type": "execute_result"
    }
   ],
   "source": [
    "math.expm1(1) #esta funcion da e elevado al valor dado -1"
   ]
  },
  {
   "cell_type": "code",
   "execution_count": 12,
   "id": "8d095415",
   "metadata": {},
   "outputs": [
    {
     "data": {
      "text/plain": [
       "1.718281828459045"
      ]
     },
     "execution_count": 12,
     "metadata": {},
     "output_type": "execute_result"
    }
   ],
   "source": [
    "math.exp(1) - 1"
   ]
  },
  {
   "cell_type": "code",
   "execution_count": 15,
   "id": "ab4d434d",
   "metadata": {},
   "outputs": [
    {
     "data": {
      "text/plain": [
       "1.0000050000069649e-05"
      ]
     },
     "execution_count": 15,
     "metadata": {},
     "output_type": "execute_result"
    }
   ],
   "source": [
    "math.exp(1e-05) - 1"
   ]
  },
  {
   "cell_type": "code",
   "execution_count": 16,
   "id": "89a47ffa",
   "metadata": {},
   "outputs": [
    {
     "data": {
      "text/plain": [
       "1.0000050000166667e-05"
      ]
     },
     "execution_count": 16,
     "metadata": {},
     "output_type": "execute_result"
    }
   ],
   "source": [
    "math.expm1(1e-05) #mayor precision"
   ]
  },
  {
   "cell_type": "code",
   "execution_count": 17,
   "id": "1e526639",
   "metadata": {},
   "outputs": [
    {
     "data": {
      "text/plain": [
       "2.4849066497880004"
      ]
     },
     "execution_count": 17,
     "metadata": {},
     "output_type": "execute_result"
    }
   ],
   "source": [
    "math.log(12) #si no se especifica la base, devuelve ln"
   ]
  },
  {
   "cell_type": "code",
   "execution_count": 18,
   "id": "9baccaff",
   "metadata": {},
   "outputs": [
    {
     "data": {
      "text/plain": [
       "1.0791812460476247"
      ]
     },
     "execution_count": 18,
     "metadata": {},
     "output_type": "execute_result"
    }
   ],
   "source": [
    "math.log(12,10) #logbase10 (12) #se puede traducir a que si elevo 10 al resultado, me da 12"
   ]
  },
  {
   "cell_type": "code",
   "execution_count": 19,
   "id": "a34d1da8",
   "metadata": {},
   "outputs": [
    {
     "data": {
      "text/plain": [
       "9.99995000033333e-06"
      ]
     },
     "execution_count": 19,
     "metadata": {},
     "output_type": "execute_result"
    }
   ],
   "source": [
    "math.log1p(1e-5) #log(1) + 1e-5"
   ]
  },
  {
   "cell_type": "code",
   "execution_count": 20,
   "id": "1e8eb4ae",
   "metadata": {},
   "outputs": [
    {
     "data": {
      "text/plain": [
       "5.0"
      ]
     },
     "execution_count": 20,
     "metadata": {},
     "output_type": "execute_result"
    }
   ],
   "source": [
    "math.log2(32) #logaritmo base 2"
   ]
  },
  {
   "cell_type": "code",
   "execution_count": 21,
   "id": "76c319d2",
   "metadata": {},
   "outputs": [
    {
     "data": {
      "text/plain": [
       "1.0791812460476249"
      ]
     },
     "execution_count": 21,
     "metadata": {},
     "output_type": "execute_result"
    }
   ],
   "source": [
    "math.log10(12) #logaritmo base 10"
   ]
  },
  {
   "cell_type": "code",
   "execution_count": 24,
   "id": "4c50b59b",
   "metadata": {},
   "outputs": [
    {
     "data": {
      "text/plain": [
       "1.2246467991473532e-16"
      ]
     },
     "execution_count": 24,
     "metadata": {},
     "output_type": "execute_result"
    }
   ],
   "source": [
    "math.sin(math.pi) #aqui el valor escrito es un radian"
   ]
  },
  {
   "cell_type": "code",
   "execution_count": 25,
   "id": "7e7bfc85",
   "metadata": {},
   "outputs": [
    {
     "data": {
      "text/plain": [
       "-1.0"
      ]
     },
     "execution_count": 25,
     "metadata": {},
     "output_type": "execute_result"
    }
   ],
   "source": [
    "math.cos(math.pi)"
   ]
  },
  {
   "cell_type": "code",
   "execution_count": 26,
   "id": "fcfb4f32",
   "metadata": {},
   "outputs": [
    {
     "data": {
      "text/plain": [
       "1.633123935319537e+16"
      ]
     },
     "execution_count": 26,
     "metadata": {},
     "output_type": "execute_result"
    }
   ],
   "source": [
    "math.tan(math.pi/2) #da ese numero tan grande porque el resultado de esta operacion es infinito"
   ]
  },
  {
   "cell_type": "code",
   "execution_count": 27,
   "id": "fd0a5d93",
   "metadata": {},
   "outputs": [
    {
     "data": {
      "text/plain": [
       "1.5707963267948966"
      ]
     },
     "execution_count": 27,
     "metadata": {},
     "output_type": "execute_result"
    }
   ],
   "source": [
    "math.asin(1) #el resultado esta en radianes"
   ]
  },
  {
   "cell_type": "code",
   "execution_count": 28,
   "id": "c13e25ea",
   "metadata": {},
   "outputs": [
    {
     "data": {
      "text/plain": [
       "0.0"
      ]
     },
     "execution_count": 28,
     "metadata": {},
     "output_type": "execute_result"
    }
   ],
   "source": [
    "math.acos(1)"
   ]
  },
  {
   "cell_type": "code",
   "execution_count": 29,
   "id": "2cb2f245",
   "metadata": {},
   "outputs": [
    {
     "data": {
      "text/plain": [
       "0.7853981633974483"
      ]
     },
     "execution_count": 29,
     "metadata": {},
     "output_type": "execute_result"
    }
   ],
   "source": [
    "math.atan(1)"
   ]
  },
  {
   "cell_type": "code",
   "execution_count": 32,
   "id": "293c0f3d",
   "metadata": {},
   "outputs": [
    {
     "data": {
      "text/plain": [
       "45.0"
      ]
     },
     "execution_count": 32,
     "metadata": {},
     "output_type": "execute_result"
    }
   ],
   "source": [
    "math.degrees(0.7853981633974483) #devuelve los grados a partir de un radian"
   ]
  },
  {
   "cell_type": "code",
   "execution_count": 34,
   "id": "12bc2ba6",
   "metadata": {},
   "outputs": [
    {
     "data": {
      "text/plain": [
       "1.0471975511965976"
      ]
     },
     "execution_count": 34,
     "metadata": {},
     "output_type": "execute_result"
    }
   ],
   "source": [
    "math.radians(60) #devuelve los radianes que equivalen a 60 grados"
   ]
  },
  {
   "cell_type": "code",
   "execution_count": 38,
   "id": "73992ef1",
   "metadata": {},
   "outputs": [
    {
     "data": {
      "text/plain": [
       "0.5000000000000001"
      ]
     },
     "execution_count": 38,
     "metadata": {},
     "output_type": "execute_result"
    }
   ],
   "source": [
    "math.cos(math.radians(60)) #calculamos el coseno de 60 grados"
   ]
  },
  {
   "cell_type": "code",
   "execution_count": 39,
   "id": "57d932b5",
   "metadata": {},
   "outputs": [
    {
     "data": {
      "text/plain": [
       "5.0"
      ]
     },
     "execution_count": 39,
     "metadata": {},
     "output_type": "execute_result"
    }
   ],
   "source": [
    "math.hypot(3, 4) #hipotenusa"
   ]
  },
  {
   "cell_type": "code",
   "execution_count": 41,
   "id": "2b7a42e0",
   "metadata": {},
   "outputs": [
    {
     "data": {
      "text/plain": [
       "5.0"
      ]
     },
     "execution_count": 41,
     "metadata": {},
     "output_type": "execute_result"
    }
   ],
   "source": [
    "math.sqrt(3**2 + 4**2)"
   ]
  },
  {
   "cell_type": "code",
   "execution_count": 44,
   "id": "a87425dd",
   "metadata": {},
   "outputs": [
    {
     "data": {
      "text/plain": [
       "53.13010235415598"
      ]
     },
     "execution_count": 44,
     "metadata": {},
     "output_type": "execute_result"
    }
   ],
   "source": [
    "math.degrees(math.atan2(4, 3))"
   ]
  },
  {
   "cell_type": "code",
   "execution_count": 48,
   "id": "cbf70e88",
   "metadata": {},
   "outputs": [
    {
     "data": {
      "text/plain": [
       "0.0"
      ]
     },
     "execution_count": 48,
     "metadata": {},
     "output_type": "execute_result"
    }
   ],
   "source": [
    "math.sinh(0) #seno hiperbolico"
   ]
  },
  {
   "cell_type": "code",
   "execution_count": 47,
   "id": "eed08ddd",
   "metadata": {},
   "outputs": [
    {
     "data": {
      "text/plain": [
       "1.0"
      ]
     },
     "execution_count": 47,
     "metadata": {},
     "output_type": "execute_result"
    }
   ],
   "source": [
    "math.cosh(0)"
   ]
  },
  {
   "cell_type": "code",
   "execution_count": 49,
   "id": "0981bf92",
   "metadata": {},
   "outputs": [
    {
     "data": {
      "text/plain": [
       "0.0"
      ]
     },
     "execution_count": 49,
     "metadata": {},
     "output_type": "execute_result"
    }
   ],
   "source": [
    "math.tanh(0)"
   ]
  },
  {
   "cell_type": "code",
   "execution_count": 55,
   "id": "38f8a473",
   "metadata": {},
   "outputs": [
    {
     "data": {
      "text/plain": [
       "0.9999911238536323"
      ]
     },
     "execution_count": 55,
     "metadata": {},
     "output_type": "execute_result"
    }
   ],
   "source": [
    "math.erf(math.pi)    "
   ]
  },
  {
   "cell_type": "code",
   "execution_count": 56,
   "id": "9b5e3fa5",
   "metadata": {},
   "outputs": [
    {
     "data": {
      "text/plain": [
       "8.876146367641612e-06"
      ]
     },
     "execution_count": 56,
     "metadata": {},
     "output_type": "execute_result"
    }
   ],
   "source": [
    "math.erfc(math.pi) #esta funcion devuelve el valor que falta para que la funcion anterior llegue a 1"
   ]
  },
  {
   "cell_type": "code",
   "execution_count": 58,
   "id": "d530e43d",
   "metadata": {},
   "outputs": [
    {
     "data": {
      "text/plain": [
       "6.0"
      ]
     },
     "execution_count": 58,
     "metadata": {},
     "output_type": "execute_result"
    }
   ],
   "source": [
    "math.gamma(4) #muestra el factorial de un numero menor al dado. en este caso esta dando 3!"
   ]
  },
  {
   "cell_type": "code",
   "execution_count": 60,
   "id": "1115f4fe",
   "metadata": {},
   "outputs": [
    {
     "data": {
      "text/plain": [
       "6"
      ]
     },
     "execution_count": 60,
     "metadata": {},
     "output_type": "execute_result"
    }
   ],
   "source": [
    "math.factorial(3)"
   ]
  },
  {
   "cell_type": "code",
   "execution_count": 61,
   "id": "a68ef1da",
   "metadata": {},
   "outputs": [
    {
     "data": {
      "text/plain": [
       "52.34277778455352"
      ]
     },
     "execution_count": 61,
     "metadata": {},
     "output_type": "execute_result"
    }
   ],
   "source": [
    "math.gamma(5.5)"
   ]
  },
  {
   "cell_type": "code",
   "execution_count": 64,
   "id": "8798848c",
   "metadata": {},
   "outputs": [
    {
     "data": {
      "text/plain": [
       "0.693147180559945"
      ]
     },
     "execution_count": 64,
     "metadata": {},
     "output_type": "execute_result"
    }
   ],
   "source": [
    "math.lgamma(3)"
   ]
  },
  {
   "cell_type": "code",
   "execution_count": null,
   "id": "8020392f",
   "metadata": {},
   "outputs": [],
   "source": []
  }
 ],
 "metadata": {
  "kernelspec": {
   "display_name": "Python 3",
   "language": "python",
   "name": "python3"
  },
  "language_info": {
   "codemirror_mode": {
    "name": "ipython",
    "version": 3
   },
   "file_extension": ".py",
   "mimetype": "text/x-python",
   "name": "python",
   "nbconvert_exporter": "python",
   "pygments_lexer": "ipython3",
   "version": "3.7.10"
  }
 },
 "nbformat": 4,
 "nbformat_minor": 5
}
